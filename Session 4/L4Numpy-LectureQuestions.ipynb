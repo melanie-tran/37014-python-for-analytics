{
 "cells": [
  {
   "cell_type": "markdown",
   "metadata": {},
   "source": [
    "# NumPy Lecture Questions"
   ]
  },
  {
   "cell_type": "markdown",
   "metadata": {},
   "source": [
    "### Q1.1 Create a 2 by 2 array, use different ways \n",
    "#### Q1.1a\n",
    "```Python \n",
    "d2array_a = \n",
    "print ('a:\\n',d2array_a)```\n",
    "#### Q1.1b\n",
    "```Python \n",
    "from_list = \n",
    "d2array_b = \n",
    "print('b:\\n',d2array_b)\n",
    "```\n",
    "#### Q1.1c\n",
    "```Python \n",
    "d2array_c = \n",
    "print('c:\\n',d2array_c)```\n",
    "\n",
    "#### Q1.1d For each statement in a, b, and c, specify the data types:\n",
    "```Python \n",
    "d2array_a = \n",
    "d2array_b = \n",
    "d2array_c = ```"
   ]
  },
  {
   "cell_type": "code",
   "execution_count": 1,
   "metadata": {},
   "outputs": [],
   "source": [
    "import numpy as np"
   ]
  },
  {
   "cell_type": "code",
   "execution_count": 5,
   "metadata": {},
   "outputs": [
    {
     "data": {
      "text/plain": [
       "array([[0.02116062, 0.25231172],\n",
       "       [0.94131624, 0.70306002]])"
      ]
     },
     "execution_count": 5,
     "metadata": {},
     "output_type": "execute_result"
    }
   ],
   "source": [
    "np.random.rand(2,2)"
   ]
  },
  {
   "cell_type": "code",
   "execution_count": 29,
   "metadata": {},
   "outputs": [
    {
     "name": "stdout",
     "output_type": "stream",
     "text": [
      "a:\n",
      " [[0.42116192 0.60931418]\n",
      " [0.78843335 0.22990076]]\n"
     ]
    }
   ],
   "source": [
    "# In class exercise for student to fill in \n",
    "\n",
    "# create a 2 by 2 array, use different ways \n",
    "# option a\n",
    "d2array_a = np.random.rand(2,2)\n",
    "print ('a:\\n',d2array_a)"
   ]
  },
  {
   "cell_type": "code",
   "execution_count": 30,
   "metadata": {},
   "outputs": [
    {
     "name": "stdout",
     "output_type": "stream",
     "text": [
      "b:\n",
      " [[2 3]\n",
      " [9 8]]\n"
     ]
    }
   ],
   "source": [
    "# option b\n",
    "from_list = [[2,3],[9,8]]\n",
    "d2array_b = np.array(from_list)\n",
    "print('b:\\n',d2array_b)"
   ]
  },
  {
   "cell_type": "code",
   "execution_count": 31,
   "metadata": {},
   "outputs": [
    {
     "name": "stdout",
     "output_type": "stream",
     "text": [
      "c:\n",
      " [[1 2]\n",
      " [1 2]]\n"
     ]
    }
   ],
   "source": [
    "# option c\n",
    "grid = [[1,2]]\n",
    "d2array_c = np.concatenate([grid,grid]) \n",
    "print('c:\\n',d2array_c)"
   ]
  },
  {
   "cell_type": "code",
   "execution_count": 17,
   "metadata": {},
   "outputs": [],
   "source": [
    "# specify the data type\n",
    "d2array_c = d2array_c.dtype\n",
    "d2array_a = d2array_a.dtype\n",
    "d2array_b = d2array_b.dtype\n"
   ]
  },
  {
   "cell_type": "code",
   "execution_count": 32,
   "metadata": {},
   "outputs": [
    {
     "name": "stdout",
     "output_type": "stream",
     "text": [
      "Data type for a: float64\n",
      "Data type for b: int32\n",
      "Data type for c: int32\n"
     ]
    }
   ],
   "source": [
    "print(f'Data type for a: {d2array_a.dtype}')\n",
    "print(f'Data type for b: {d2array_b.dtype}')\n",
    "print(f'Data type for c: {d2array_c.dtype}')"
   ]
  },
  {
   "cell_type": "code",
   "execution_count": 33,
   "metadata": {},
   "outputs": [
    {
     "data": {
      "text/plain": [
       "numpy.int32"
      ]
     },
     "execution_count": 33,
     "metadata": {},
     "output_type": "execute_result"
    }
   ],
   "source": [
    "type(d2array_b[0][1])"
   ]
  },
  {
   "cell_type": "markdown",
   "metadata": {},
   "source": [
    "#### Q2. Define the dt object again, use `str` instead of `unicode_` for course, and `int` for points\n",
    "```Python\n",
    "dt = np.dtype([('course', ????, 16), ('points', ?????, (2,))])\n",
    "grades = np.array([('bio', (18.0, 67.0)), ('math', (87.0, 47.0))], dtype=dt)\n",
    "```"
   ]
  },
  {
   "cell_type": "code",
   "execution_count": null,
   "metadata": {},
   "outputs": [],
   "source": [
    "# In class exercise for student to fill in \n",
    "\n",
    "# write the dt again, use str instead of unicode_ for course, and int for points\n",
    "dt = np.dtype([('course',''' ''', 16), ('points',''' ''', (2,))])\n",
    "grades = np.array([('bio', (18.0, 67.0)), ('math', (87.0, 47.0))], dtype=dt)"
   ]
  },
  {
   "cell_type": "markdown",
   "metadata": {},
   "source": [
    "#### Q3. What is the type of 'bio'\n",
    "```Python\n",
    "print ('\\nvalue:',?????,', type:',type(?????))\n",
    "```"
   ]
  },
  {
   "cell_type": "code",
   "execution_count": null,
   "metadata": {},
   "outputs": [],
   "source": [
    "# what is the type of 'bio'\n",
    "print ('\\nvalue:',''' ''',', type:',''' ''',)"
   ]
  },
  {
   "cell_type": "markdown",
   "metadata": {},
   "source": [
    "#### Q4. What is the type of points?\n",
    "```Python\n",
    "print ('\\nvalue:',?????,', type:',type(?????))\n",
    "```"
   ]
  },
  {
   "cell_type": "code",
   "execution_count": null,
   "metadata": {},
   "outputs": [],
   "source": [
    "# what is the type of points\n",
    "print ('\\nvalue:',''' ''',', type:',''' ''')"
   ]
  },
  {
   "cell_type": "markdown",
   "metadata": {},
   "source": [
    "#### Q5. What are the bio class points? **1\n",
    "```Python\n",
    "print ('\\nvalue:',?????,', points I got:',?????)\n",
    "```"
   ]
  },
  {
   "cell_type": "code",
   "execution_count": null,
   "metadata": {},
   "outputs": [],
   "source": [
    "# what are the bio class points \n",
    "print ('\\nvalue:',', points I got:')"
   ]
  },
  {
   "cell_type": "markdown",
   "metadata": {},
   "source": [
    "#### Q6. What are the math class points ? **2\n",
    "```Python\n",
    "print ('\\nvalue:',?????,', points I got:',?????)\n",
    "```"
   ]
  },
  {
   "cell_type": "code",
   "execution_count": null,
   "metadata": {},
   "outputs": [],
   "source": [
    "# what are the math class points \n",
    "print ('\\nvalue:',', points I got:')"
   ]
  },
  {
   "cell_type": "markdown",
   "metadata": {},
   "source": [
    "#### Q7. What are the data types of **1 and **2?"
   ]
  },
  {
   "cell_type": "code",
   "execution_count": null,
   "metadata": {},
   "outputs": [],
   "source": [
    "# what is the type of grades[0]['course']\n",
    "print ('\\nvalue:',', type:')"
   ]
  },
  {
   "cell_type": "code",
   "execution_count": null,
   "metadata": {},
   "outputs": [],
   "source": [
    "# what is the type of grades[1]['points']\n",
    "print ('\\nvalue:',', type:')"
   ]
  },
  {
   "cell_type": "markdown",
   "metadata": {},
   "source": [
    "----------------------------------------------------------\n",
    "### Universal functions\n",
    "----\n",
    "#### Q8. Find the square root of array a using the numpy lib functions\n"
   ]
  },
  {
   "cell_type": "code",
   "execution_count": null,
   "metadata": {},
   "outputs": [],
   "source": [
    "# find the square root of array a using the numpy lib functions\n"
   ]
  },
  {
   "cell_type": "markdown",
   "metadata": {},
   "source": [
    "#### Q9. Find the exponents of array b using the numpy lib functions\n"
   ]
  },
  {
   "cell_type": "code",
   "execution_count": null,
   "metadata": {},
   "outputs": [],
   "source": [
    "# find the exponents of array b using the numpy lib functions\n"
   ]
  },
  {
   "cell_type": "markdown",
   "metadata": {},
   "source": [
    "#### Q10. Given: \n",
    "```Python\n",
    "a = np.arange(12).reshape(3,4)\n",
    "```\n",
    "#### Q10A. Find the sum of each column\n",
    "```Python\n",
    "a.sum(????)\n",
    "```"
   ]
  },
  {
   "cell_type": "code",
   "execution_count": null,
   "metadata": {},
   "outputs": [],
   "source": [
    "# In class exercise for student to enter\n",
    "a = np.arange(12).reshape(3,4)\n",
    "print (a)"
   ]
  },
  {
   "cell_type": "markdown",
   "metadata": {},
   "source": [
    "#### Q10B. Find the min of each row\n",
    "```Python\n",
    "a.min(????)\n",
    "```"
   ]
  },
  {
   "cell_type": "code",
   "execution_count": null,
   "metadata": {},
   "outputs": [],
   "source": [
    "print ('min of each row:', a.sum())"
   ]
  },
  {
   "cell_type": "markdown",
   "metadata": {},
   "source": [
    "----------------------------------------------------------\n",
    "### Slicing\n",
    "#### Q11. Find the following slices of the array:\n",
    "\n",
    "#### Q11A. Each row in the second column of a, there are multiple ways!\n",
    "```Python\n",
    "print (a[])\n",
    "print (a[])\n",
    "```"
   ]
  },
  {
   "cell_type": "code",
   "execution_count": null,
   "metadata": {},
   "outputs": [],
   "source": [
    "# In class exercise for student to enter\n",
    "# find the following slices of the array:\n",
    "\n",
    "# each row in the second column of a\n",
    "print (a[])\n",
    "print (a[])\n"
   ]
  },
  {
   "cell_type": "markdown",
   "metadata": {},
   "source": [
    "#### Q11B. Each column in the second and the third rows\n",
    "```Python\n",
    "print (a[])\n",
    "```"
   ]
  },
  {
   "cell_type": "code",
   "execution_count": null,
   "metadata": {},
   "outputs": [],
   "source": [
    "# each column in the second and the third rows\n",
    "print (a[])"
   ]
  },
  {
   "cell_type": "markdown",
   "metadata": {},
   "source": [
    "### Fancy Slicing\n",
    "#### Q12. Given:\n",
    "```Python\n",
    "a = array([[33,  3, 43, 68, 97],\n",
    "       [42, 33, 82, 25, 82],\n",
    "       [57, 27, 15, 13, 78],\n",
    "       [11, 29, 13, 28, 98],\n",
    "       [92, 20, 78, 73, 57],\n",
    "       [ 7, 48,  2,  4, 81],\n",
    "       [15, 63, 50,  3, 37],\n",
    "       [25, 29, 63, 76, 38],\n",
    "       [37, 10, 84, 56,  4],\n",
    "       [63,  1, 73, 28, 95]])\n",
    "```\n",
    "#### can you write code to get:\n",
    "```Python\n",
    "array([2],\n",
    "      [15],\n",
    "      [63])\n",
    "```"
   ]
  },
  {
   "cell_type": "code",
   "execution_count": null,
   "metadata": {},
   "outputs": [],
   "source": [
    "# In class exercise for student to enter\n",
    "# given array a:\n",
    "a = np.array([[33,  3, 43, 68, 97],\n",
    "       [42, 33, 82, 25, 82],\n",
    "       [57, 27, 15, 13, 78],\n",
    "       [11, 29, 13, 28, 98],\n",
    "       [92, 20, 78, 73, 57],\n",
    "       [ 7, 48,  2,  4, 81],\n",
    "       [15, 63, 50,  3, 37],\n",
    "       [25, 29, 63, 76, 38],\n",
    "       [37, 10, 84, 56,  4],\n",
    "       [63,  1, 73, 28, 95]])\n",
    "# fancy slice the array to find the array([2],[15],[63]):\n"
   ]
  },
  {
   "cell_type": "markdown",
   "metadata": {},
   "source": [
    "**End of Module**"
   ]
  }
 ],
 "metadata": {
  "kernelspec": {
   "display_name": "Python 3",
   "language": "python",
   "name": "python3"
  },
  "language_info": {
   "codemirror_mode": {
    "name": "ipython",
    "version": 3
   },
   "file_extension": ".py",
   "mimetype": "text/x-python",
   "name": "python",
   "nbconvert_exporter": "python",
   "pygments_lexer": "ipython3",
   "version": "3.7.6"
  }
 },
 "nbformat": 4,
 "nbformat_minor": 2
}
