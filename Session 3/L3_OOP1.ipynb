{
 "cells": [
  {
   "cell_type": "markdown",
   "metadata": {},
   "source": [
    "# Object-Oriented Programming\n",
    "## Part 1\n",
    "Python Classes, instances of classes and object inheritance. Building a generic example to understand python classes."
   ]
  },
  {
   "cell_type": "markdown",
   "metadata": {},
   "source": [
    "**Classes** are a way of combining information and behavior. "
   ]
  },
  {
   "cell_type": "code",
   "execution_count": 1,
   "metadata": {},
   "outputs": [],
   "source": [
    "class Machine():\n",
    "    # machines to be used in simulation of mining operations\n",
    "    \n",
    "    def __init__(self):\n",
    "        # each machine has a capacity to haul dirt\n",
    "        self.c = 500\n",
    "        # each machine has a location, x and y\n",
    "        self.x = 0\n",
    "        self.y = 0\n",
    "        # each machine has a distance per hour travel capacility\n",
    "        self.dist = 25 #(miles/hour)\n",
    "    \n",
    "    def move(self,inc=1):\n",
    "        # changes the location of the machine\n",
    "        self.x += 1*inc\n",
    "        self.y += 1*inc"
   ]
  },
  {
   "cell_type": "markdown",
   "metadata": {},
   "source": [
    "- Create an instance of Machine class: "
   ]
  },
  {
   "cell_type": "code",
   "execution_count": 2,
   "metadata": {},
   "outputs": [],
   "source": [
    "mc1 = Machine()"
   ]
  },
  {
   "cell_type": "markdown",
   "metadata": {},
   "source": [
    "- To access an object's variables or methods, we use the dot notation:"
   ]
  },
  {
   "cell_type": "code",
   "execution_count": 3,
   "metadata": {},
   "outputs": [
    {
     "name": "stdout",
     "output_type": "stream",
     "text": [
      "500\n",
      "0 0\n",
      "1 1\n"
     ]
    }
   ],
   "source": [
    "print (mc1.c)\n",
    "print (mc1.x, mc1.y)\n",
    "mc1.move()\n",
    "print (mc1.x, mc1.y)"
   ]
  },
  {
   "cell_type": "code",
   "execution_count": 4,
   "metadata": {},
   "outputs": [
    {
     "name": "stdout",
     "output_type": "stream",
     "text": [
      "<__main__.Machine object at 0x0000023666D894C8>\n",
      "<__main__.Machine object at 0x0000023666D89508>\n",
      "<__main__.Machine object at 0x0000023666D89548>\n",
      "<__main__.Machine object at 0x0000023666D89588>\n",
      "<__main__.Machine object at 0x0000023666D89608>\n"
     ]
    }
   ],
   "source": [
    "# Create more machines for the simulation\n",
    "mining_fleet = [Machine() for x in range(5)]\n",
    "\n",
    "# Check out the fleet:\n",
    "for mc in mining_fleet:\n",
    "    print(mc)"
   ]
  },
  {
   "cell_type": "code",
   "execution_count": 5,
   "metadata": {},
   "outputs": [
    {
     "data": {
      "text/plain": [
       "500"
      ]
     },
     "execution_count": 5,
     "metadata": {},
     "output_type": "execute_result"
    }
   ],
   "source": [
    "mining_fleet[1].c"
   ]
  },
  {
   "cell_type": "markdown",
   "metadata": {},
   "source": [
    "# Object-Oriented programing terminology"
   ]
  },
  {
   "cell_type": "markdown",
   "metadata": {},
   "source": [
    "A **class** is a body of code that defines the attributes and behaviors required to accurately model something needed for your program. General convention is to use CamelCase, and adhering to python variable naming rules. \n",
    "\n",
    "An **attribute** is a piece of information. In code, an attribute is just a variable that is part of a class.\n",
    "\n",
    "A **behavior** is an action that is defined within a class -- functions that are defined for the class.\n",
    "\n",
    "An **object** is a particular instance of a class. An object has a certain set of values for all of the attributes (variables) in the class.\n",
    "\n",
    "**self** inside the functions in a class, it is a variable for the instance/object being accessed. All methods in a class need the self object as their first argument, so they can access any attribute that is part of the class.\n",
    "\n",
    "**Inheritance** concept that one class can inherit traits from another class.\n",
    "\n",
    "**is-a** a phrase to say that something inherits from another class.\n",
    "\n",
    "**has-a** a phrase to say that something is composed of other classes."
   ]
  },
  {
   "cell_type": "markdown",
   "metadata": {},
   "source": [
    "### The `__init__()` method"
   ]
  },
  {
   "cell_type": "markdown",
   "metadata": {},
   "source": [
    "Function names that start and end with two underscores are special built-in functions that Python uses in certain ways. The `__init()__` method is one of these special functions. It is called automatically when you create an object from your class. The `__init()__` method lets you make sure that all relevant attributes are set to their proper values when an object is created from the class, before the object is used."
   ]
  },
  {
   "cell_type": "markdown",
   "metadata": {},
   "source": [
    "### Methods in a class\n",
    "A method is just a function that is part of a class. Anything you can do with functions are applicable here. Each method has to accept one argument by default, the value self. This is a reference to the particular object that is calling the method. This self argument gives you access to the calling object's attributes. \n",
    "\n",
    "In our example the `move` method changes both `x` and `y` coordinate of the machine by `1* inc`. "
   ]
  },
  {
   "cell_type": "markdown",
   "metadata": {},
   "source": [
    "### Create a function to calculate distance between two machines"
   ]
  },
  {
   "cell_type": "code",
   "execution_count": 11,
   "metadata": {},
   "outputs": [],
   "source": [
    "from math import sqrt\n",
    "class Machine():\n",
    "    # machines to be used in simulation of mining operations\n",
    "    \n",
    "    def __init__(self):\n",
    "        # each machine has a capacity to haul dirt\n",
    "        self.c = 500\n",
    "        # each machine has a location, x and y\n",
    "        self.x = 0\n",
    "        self.y = 0\n",
    "        # each machine has a distance per hour travel capacility\n",
    "        self.dist = 25 #(miles/hour)\n",
    "    \n",
    "    def move(self,inc=1):\n",
    "        # changes the location of the machine\n",
    "        self.x += 1*inc\n",
    "        self.y += 1*inc\n",
    "    def get_distance(self, mc2):\n",
    "        # Calculates the distance from this machine to another machine,\n",
    "        #  and returns that value.\n",
    "        distance = sqrt((self.x-mc2.x)**2+(self.y-mc2.y)**2)\n",
    "        return distance"
   ]
  },
  {
   "cell_type": "code",
   "execution_count": 14,
   "metadata": {},
   "outputs": [
    {
     "name": "stdout",
     "output_type": "stream",
     "text": [
      "Distance is: 2.83\n"
     ]
    }
   ],
   "source": [
    "# Students to fill in \n",
    "\n",
    "# create two machines\n",
    "mc1 = Machine()\n",
    "mc2 = Machine()\n",
    "\n",
    "# move the second machine to another location, say 2 units?\n",
    "mc2.move(inc = 2)\n",
    "\n",
    "# calculate the distance between the two machines\n",
    "distance = mc1.get_distance(mc2)\n",
    "print ('Distance is:', round(distance,2))"
   ]
  },
  {
   "cell_type": "markdown",
   "metadata": {},
   "source": [
    "### Student Exercise - Create a Person Class\n",
    "\n",
    "Modeling a person is a classic exercise and you are very familiar with attributes and behaviors of people. \n",
    "\n",
    "Define a `Person()` class.\n",
    "1 - In the `__init()__` function, define several attributes of a person. Good attributes to consider are name, age, place of birth, and anything else you like to know about the people in your life.\n",
    "\n",
    "2 - Write one method. This could be as simple as `introduce_yourself()`. This method would print out a statement such as, \"Hello, my name is Eric.\"\n",
    "\n",
    "3 - You could also make a method such as `age_person()`. A simple version of this method would just add 1 to the person's age.\n",
    "\n",
    "4 - A more complicated version of this method would involve storing the person's birthdate rather than their age, and then calculating the age whenever the age is requested. \n",
    "\n",
    "5 - Create a person, set the attribute values appropriately, and print out information about the person.\n",
    "\n",
    "6- Call your method on the person you created. Make sure your method executed properly; if the method does not print anything out directly, print something before and after calling the method to make sure it did what it was supposed to."
   ]
  },
  {
   "cell_type": "code",
   "execution_count": 49,
   "metadata": {},
   "outputs": [],
   "source": [
    "class Person():\n",
    "    def __init__(self,name,age,pob):\n",
    "        self.name = name\n",
    "        self.age = age\n",
    "        self.pob = pob\n",
    "        self.bday = bday\n",
    "        \n",
    "    def introduce_yourself(self):\n",
    "        print(f'Hello, my name is {self.name}.')\n",
    "        print(f'I am {self.age} years old.')\n",
    "        print(f'I am from {self.pob}.')\n",
    "        \n",
    "    def age_person(self):\n",
    "        self.age+= 1\n",
    "        \n",
    "    def age_person_advanced(self):\n",
    "        pass"
   ]
  },
  {
   "cell_type": "code",
   "execution_count": 47,
   "metadata": {},
   "outputs": [],
   "source": [
    "from datetime import date\n",
    "today = date.today()\n",
    "today\n",
    "\n",
    "bday = '10-2-2000'\n",
    "dt = bday.split('-')\n",
    "dt\n",
    "bday_date = date(int(dt[2]),int(dt[0]),int(dt[1]))\n",
    "bday_date\n",
    "age = -(today.year - bday_date.year - today.month - bday_date.month - today.day - bday_date.day)"
   ]
  },
  {
   "cell_type": "code",
   "execution_count": 77,
   "metadata": {},
   "outputs": [],
   "source": [
    "class Person():\n",
    "    def __init__(self,name,pob,bday):\n",
    "        self.name = name\n",
    "        self.pob = pob\n",
    "        self.bday = bday\n",
    "        \n",
    "    def introduce_yourself(self):\n",
    "        print(f'Hello, my name is {self.name}.')\n",
    "        print(f'I am from {self.pob}.')\n",
    "        print(f'My birthday is {self.bday}.')\n",
    "        \n",
    "    def age_person_advanced(self):\n",
    "        dt = self.bday.split('-')\n",
    "        bday_date = date(int(dt[2]),int(dt[0]),int(dt[1]))\n",
    "        age = (today.year - bday_date.year - today.month - bday_date.month - today.day - bday_date.day)\n",
    "        return age"
   ]
  },
  {
   "cell_type": "code",
   "execution_count": 78,
   "metadata": {},
   "outputs": [],
   "source": [
    "John = Person('John','Chicago','12-2-1940')"
   ]
  },
  {
   "cell_type": "code",
   "execution_count": 82,
   "metadata": {},
   "outputs": [
    {
     "data": {
      "text/plain": [
       "datetime.date(2021, 1, 29)"
      ]
     },
     "execution_count": 82,
     "metadata": {},
     "output_type": "execute_result"
    }
   ],
   "source": [
    "today"
   ]
  },
  {
   "cell_type": "code",
   "execution_count": 79,
   "metadata": {},
   "outputs": [
    {
     "name": "stdout",
     "output_type": "stream",
     "text": [
      "Hello, my name is John.\n",
      "I am from Chicago.\n",
      "My birthday is 12-2-1940.\n"
     ]
    }
   ],
   "source": [
    "John.introduce_yourself()"
   ]
  },
  {
   "cell_type": "code",
   "execution_count": 80,
   "metadata": {},
   "outputs": [
    {
     "data": {
      "text/plain": [
       "37"
      ]
     },
     "execution_count": 80,
     "metadata": {},
     "output_type": "execute_result"
    }
   ],
   "source": [
    "John.age_person_advanced()"
   ]
  },
  {
   "cell_type": "code",
   "execution_count": 50,
   "metadata": {},
   "outputs": [],
   "source": [
    "Eric = Person('Eric', 30, 'OKC')"
   ]
  },
  {
   "cell_type": "code",
   "execution_count": 51,
   "metadata": {},
   "outputs": [
    {
     "name": "stdout",
     "output_type": "stream",
     "text": [
      "Hello, my name is Eric.\n",
      "I am 30 years old.\n",
      "I am from OKC.\n"
     ]
    }
   ],
   "source": [
    "Eric.introduce_yourself()"
   ]
  },
  {
   "cell_type": "code",
   "execution_count": 52,
   "metadata": {},
   "outputs": [
    {
     "data": {
      "text/plain": [
       "30"
      ]
     },
     "execution_count": 52,
     "metadata": {},
     "output_type": "execute_result"
    }
   ],
   "source": [
    "Eric.age"
   ]
  },
  {
   "cell_type": "code",
   "execution_count": 53,
   "metadata": {},
   "outputs": [
    {
     "data": {
      "text/plain": [
       "'OKC'"
      ]
     },
     "execution_count": 53,
     "metadata": {},
     "output_type": "execute_result"
    }
   ],
   "source": [
    "Eric.pob"
   ]
  },
  {
   "cell_type": "markdown",
   "metadata": {},
   "source": [
    "## Inheritance\n",
    "\n",
    "Let's create a special type of machine; a large track-type tractor, e.g. D9.\n",
    "\n",
    "The Caterpillar D9 is a large track-type tractor designed and manufactured by Caterpillar Inc. It is usually sold as a bulldozer equipped with a detachable large blade and a rear ripper attachment.\n",
    "https://en.wikipedia.org/wiki/Caterpillar_D9"
   ]
  },
  {
   "cell_type": "code",
   "execution_count": 85,
   "metadata": {},
   "outputs": [],
   "source": [
    "from math import sqrt\n",
    "class Machine():\n",
    "    # machines to be used in simulation of mining operations\n",
    "    \n",
    "    def __init__(self,x=0,y=0):\n",
    "        # each machine has a capacity to haul dirt\n",
    "        self.c = 500\n",
    "        # each machine has a location, x and y\n",
    "        self.x = x\n",
    "        self.y = y\n",
    "        # each machine has a distance per hour travel capacility\n",
    "        self.dist = 25 #(miles/hour)\n",
    "    \n",
    "    def move(self,inc=1):\n",
    "        # changes the location of the machine\n",
    "        self.x += 1*inc\n",
    "        self.y += 1*inc\n",
    "    def get_distance(self, mc2):\n",
    "        # Calculates the distance from this machine to another machine,\n",
    "        #  and returns that value.\n",
    "        distance = sqrt((self.x-mc2.x)**2+(self.y-mc2.y)**2)\n",
    "        return distance\n",
    "    \n",
    "    \n",
    "class LTTT(Machine):\n",
    "    # Large track-type tractors are also machines!\n",
    "    # we inherit all properties of Machine class\n",
    "    def __init__(self, x, y, carrier_roller=1):\n",
    "        super().__init__(x, y)\n",
    "        # alternative\n",
    "        # Machine.__init__(self,x,y)\n",
    "        self.carrier_roller = carrier_roller"
   ]
  },
  {
   "cell_type": "code",
   "execution_count": 84,
   "metadata": {},
   "outputs": [
    {
     "data": {
      "text/plain": [
       "<__main__.LTTT at 0x23666e5dac8>"
      ]
     },
     "execution_count": 84,
     "metadata": {},
     "output_type": "execute_result"
    }
   ],
   "source": [
    "D9 = LTTT(2,4,1)\n",
    "D9"
   ]
  },
  {
   "cell_type": "markdown",
   "metadata": {},
   "source": [
    "Because LTTTs are also machines, we can inherit the attributes and behaviors of machines.\n",
    "\n",
    "The `__init__()` function of the new class needs to call the `__init__()` function of the parent class. The `__init__()` function of the new class needs to accept all of the parameters required to build an object from the parent class, and these parameters need to be passed to the `__init__()` function of the parent class. \n",
    "\n",
    "The `super()` function passes the `self` argument to the parent class automatically. You could also do this by explicitly naming the parent class when you call the `__init__()` function, but you then have to include the `self` argument manually."
   ]
  },
  {
   "cell_type": "code",
   "execution_count": 86,
   "metadata": {},
   "outputs": [
    {
     "data": {
      "text/plain": [
       "4.47213595499958"
      ]
     },
     "execution_count": 86,
     "metadata": {},
     "output_type": "execute_result"
    }
   ],
   "source": [
    "distance = D9.get_distance(mc1)\n",
    "distance"
   ]
  },
  {
   "cell_type": "markdown",
   "metadata": {},
   "source": [
    "### Student exercise - Create a Student Class\n",
    "\n",
    "1.Start with your program from Person Class.\n",
    "\n",
    "2.Make a new class called Student that inherits from Person.\n",
    "\n",
    "3.Define some attributes that a student has, which other people don't have.\n",
    "- A student has a school they are associated with, a graduation year, a gpa, and other particular attributes.\n",
    "   \n",
    "4.Create a Student object, and prove that you have used inheritance correctly.\n",
    "   - Set some attribute values for the student, that are only coded in the Person class.\n",
    "   - Set some attribute values for the student, that are only coded in the Student class.\n",
    "   - Print the values for all of these attributes.\n"
   ]
  },
  {
   "cell_type": "code",
   "execution_count": 87,
   "metadata": {},
   "outputs": [],
   "source": [
    "# copy the Person class here, to make it easier to create the Student class\n",
    "\n",
    "class Person():\n",
    "    def __init__(self,name,age,pob):\n",
    "        self.name = name\n",
    "        self.age = age\n",
    "        self.pob = pob\n",
    "        self.bday = bday\n",
    "        \n",
    "    def introduce_yourself(self):\n",
    "        print(f'Hello, my name is {self.name}.')\n",
    "        print(f'I am {self.age} years old.')\n",
    "        print(f'I am from {self.pob}.')\n",
    "        \n",
    "    def age_person(self):\n",
    "        self.age+= 1\n",
    "        \n",
    "    def age_person_advanced(self):\n",
    "        pass"
   ]
  },
  {
   "cell_type": "code",
   "execution_count": null,
   "metadata": {},
   "outputs": [],
   "source": [
    "# create the Student class\n",
    "\n",
    "class Student():\n",
    "    \n",
    "    def __init__(self,name,student_id,age):\n",
    "        self.name = Person.name \n",
    "        self.student_id = student_id"
   ]
  },
  {
   "cell_type": "code",
   "execution_count": null,
   "metadata": {},
   "outputs": [],
   "source": [
    "stu1 = Student('Eric','1111',30)"
   ]
  },
  {
   "cell_type": "code",
   "execution_count": null,
   "metadata": {},
   "outputs": [],
   "source": [
    "stu.stu_id"
   ]
  },
  {
   "cell_type": "code",
   "execution_count": null,
   "metadata": {},
   "outputs": [],
   "source": [
    "stu.name"
   ]
  },
  {
   "cell_type": "code",
   "execution_count": null,
   "metadata": {},
   "outputs": [],
   "source": [
    "stu1.print_stu_info()"
   ]
  },
  {
   "cell_type": "markdown",
   "metadata": {},
   "source": [
    "**End of Part 1**"
   ]
  }
 ],
 "metadata": {
  "kernelspec": {
   "display_name": "Python 3",
   "language": "python",
   "name": "python3"
  },
  "language_info": {
   "codemirror_mode": {
    "name": "ipython",
    "version": 3
   },
   "file_extension": ".py",
   "mimetype": "text/x-python",
   "name": "python",
   "nbconvert_exporter": "python",
   "pygments_lexer": "ipython3",
   "version": "3.7.6"
  }
 },
 "nbformat": 4,
 "nbformat_minor": 2
}
