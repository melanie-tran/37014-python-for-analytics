{
 "cells": [
  {
   "cell_type": "markdown",
   "metadata": {},
   "source": [
    "## Simple Guessing Game"
   ]
  },
  {
   "cell_type": "markdown",
   "metadata": {},
   "source": [
    "**Q1.** A random number between 1 to 10 is selected randomly by the program below. Write some code that displays a different message depending on the guess: **too high, too low, just right!** Allow the user to try 5 times!\n",
    "\n",
    "Complete the program below to do so. "
   ]
  },
  {
   "cell_type": "code",
   "execution_count": 14,
   "metadata": {},
   "outputs": [
    {
     "name": "stdout",
     "output_type": "stream",
     "text": [
      "The program selected a number between 1 to 10.\n",
      "You can guess 5 times!\n",
      "Take a guess: 100\n",
      "Too high!\n",
      "Take a guess: 2\n",
      "Too low!\n",
      "Take a guess: 3\n",
      "Just right!\n"
     ]
    }
   ],
   "source": [
    "import random\n",
    "number_to_guess = random.randrange(1,10)\n",
    "#print (number_to_guess)\n",
    "print ('The program selected a number between 1 to 10.')\n",
    "print ('You can guess 5 times!')\n",
    "count = 1\n",
    "\n",
    "while count <=5:\n",
    "    guess = input('Take a guess: ')\n",
    "    if not guess.isdigit(): \n",
    "        print(\"ERROR!\")\n",
    "    elif int(guess) > number_to_guess:\n",
    "        count+=1\n",
    "        print(\"Too high!\")\n",
    "    elif int(guess) < number_to_guess:\n",
    "        count+=1\n",
    "        print(\"Too low!\")\n",
    "    elif int(guess) == number_to_guess:\n",
    "        print(\"Just right!\")\n",
    "        break"
   ]
  },
  {
   "cell_type": "code",
   "execution_count": null,
   "metadata": {},
   "outputs": [],
   "source": []
  }
 ],
 "metadata": {
  "kernelspec": {
   "display_name": "Python 3",
   "language": "python",
   "name": "python3"
  },
  "language_info": {
   "codemirror_mode": {
    "name": "ipython",
    "version": 3
   },
   "file_extension": ".py",
   "mimetype": "text/x-python",
   "name": "python",
   "nbconvert_exporter": "python",
   "pygments_lexer": "ipython3",
   "version": "3.7.6"
  }
 },
 "nbformat": 4,
 "nbformat_minor": 2
}
