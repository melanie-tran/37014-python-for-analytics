{
 "cells": [
  {
   "cell_type": "code",
   "execution_count": 1,
   "metadata": {},
   "outputs": [],
   "source": [
    "##Question 1: name four of Python's core data types.\n",
    "#Strings, numbers, lists, dictionaries, files, tuples, sets, "
   ]
  },
  {
   "cell_type": "code",
   "execution_count": 2,
   "metadata": {},
   "outputs": [],
   "source": [
    "### Question 2: In Python, what is None, and what is Null? Explain.\n",
    "\n",
    "#None used to define a null value, or no value at all. It is an object type, defined in Python \n",
    "#Null is absence of a value - not defined "
   ]
  },
  {
   "cell_type": "code",
   "execution_count": 3,
   "metadata": {},
   "outputs": [],
   "source": [
    "\n",
    "### Question 3: What does \\\"immutable\\\" mean? List the 3 immutable core types.\"\n",
    "#Immutable means it cannot be changed after it was created. Ex. Tuple, boolean, float"
   ]
  },
  {
   "cell_type": "code",
   "execution_count": 4,
   "metadata": {},
   "outputs": [],
   "source": [
    "### Question 4: What is a tuple?\"\n",
    "#immutable collection that is ordered "
   ]
  },
  {
   "cell_type": "code",
   "execution_count": 6,
   "metadata": {},
   "outputs": [
    {
     "data": {
      "text/plain": [
       "'1+2.0+3\\n'"
      ]
     },
     "execution_count": 6,
     "metadata": {},
     "output_type": "execute_result"
    }
   ],
   "source": [
    "#Question 5: What is the type of the result of the expression below?\\n\"\n",
    "float"
   ]
  },
  {
   "cell_type": "code",
   "execution_count": 7,
   "metadata": {},
   "outputs": [],
   "source": [
    "## PRACTICE 2"
   ]
  },
  {
   "cell_type": "code",
   "execution_count": 8,
   "metadata": {},
   "outputs": [],
   "source": [
    "### Question 6: Consider the following 3 statements, do they change the value printed for A. Explain why.\\n\"\n",
    "A= 'spam'\n",
    "B = A #created a view\n",
    "B = 'strawberry'\n",
    "A\n",
    "#no because you created a new value"
   ]
  },
  {
   "cell_type": "code",
   "execution_count": 9,
   "metadata": {},
   "outputs": [
    {
     "data": {
      "text/plain": [
       "'spam'"
      ]
     },
     "execution_count": 9,
     "metadata": {},
     "output_type": "execute_result"
    }
   ],
   "source": []
  },
  {
   "cell_type": "code",
   "execution_count": 14,
   "metadata": {},
   "outputs": [
    {
     "name": "stdout",
     "output_type": "stream",
     "text": [
      "A: ['spam']\n",
      "B: ['strawberry']\n",
      "A: ['strawberry']\n"
     ]
    }
   ],
   "source": [
    "##Question 7 \n",
    "\n",
    "A = ['spam']\n",
    "print ('A:',A)\n",
    "B = A #created a copy\n",
    "B[0] = 'strawberry'\n",
    "print ('B:',B)\n",
    "print ('A:',A)"
   ]
  },
  {
   "cell_type": "code",
   "execution_count": 19,
   "metadata": {},
   "outputs": [
    {
     "data": {
      "text/plain": [
       "['spam']"
      ]
     },
     "execution_count": 19,
     "metadata": {},
     "output_type": "execute_result"
    }
   ],
   "source": [
    "#Question 8: Consider the following 3 statements, do they change the value printed for A. Explain why.\\n\",\n",
    "A = ['spam']\n",
    "B = A[:]\n",
    "B[0] = 'strawberry'\n",
    "A"
   ]
  },
  {
   "cell_type": "code",
   "execution_count": 20,
   "metadata": {},
   "outputs": [
    {
     "data": {
      "text/plain": [
       "False"
      ]
     },
     "execution_count": 20,
     "metadata": {},
     "output_type": "execute_result"
    }
   ],
   "source": [
    "B==A"
   ]
  },
  {
   "cell_type": "code",
   "execution_count": null,
   "metadata": {},
   "outputs": [],
   "source": []
  }
 ],
 "metadata": {
  "kernelspec": {
   "display_name": "Python 3",
   "language": "python",
   "name": "python3"
  },
  "language_info": {
   "codemirror_mode": {
    "name": "ipython",
    "version": 3
   },
   "file_extension": ".py",
   "mimetype": "text/x-python",
   "name": "python",
   "nbconvert_exporter": "python",
   "pygments_lexer": "ipython3",
   "version": "3.7.6"
  }
 },
 "nbformat": 4,
 "nbformat_minor": 4
}
