{
 "cells": [
  {
   "cell_type": "markdown",
   "metadata": {},
   "source": [
    "# Graded Assignment 1\n",
    "\n",
    "**Please do not share this material on any platform or by any other means.**\n",
    "\n",
    "Objectives:\n",
    "    - Dictionary comprehension\n",
    "    - `for` loops\n",
    "    - Functions and recursive functions\n",
    "    - `map` and `filter`\n",
    "    - Bonus:Improving coding, loops & list comprehension\n",
    "\n",
    "\n",
    "### **Important Notes:** \n",
    "\n",
    "**Your code must run without any errors start to end. Explanations are very important. Late assignments may receive reduced credit.**\n",
    "\n",
    "* Purpose of the assignment is to assess your knowledge and command of the Python programming language and your ability to resolve common errors. Grading is based on the code you are submitting, not the formatting of the results. \n",
    "* Please use the examples as a guideline, you are not expected to have the same formatting as the example, unless it is a formatting question. \n",
    "* Remember, there are many ways to code that can lead to the correct answer, do not hesitate to exercise your own style and python programming coventions. "
   ]
  },
  {
   "cell_type": "markdown",
   "metadata": {},
   "source": [
    "## Question 1: Create this dictionary: {0: 0, 1: 1, 2: 8, 3: 27, 4: 64} using dictionary comprehension."
   ]
  },
  {
   "cell_type": "code",
   "execution_count": 1,
   "metadata": {},
   "outputs": [
    {
     "data": {
      "text/plain": [
       "{0: 0, 1: 1, 2: 8, 3: 27, 4: 64}"
      ]
     },
     "execution_count": 1,
     "metadata": {},
     "output_type": "execute_result"
    }
   ],
   "source": [
    "dictQ1 = {x:((x**2)*x) for x in range(5)}\n",
    "dictQ1"
   ]
  },
  {
   "cell_type": "markdown",
   "metadata": {},
   "source": [
    "## Question 2: Sort the dictionary in descending order you created in Q1. \n",
    "Dictionaries are unordered collections. Write a `for` loop that prints the items (keys and values) in the dictionary you created in Q1 in DESCENDING sorted order. (Hint: use the `keys` and list `sort` methods, or `sorted` function)"
   ]
  },
  {
   "cell_type": "code",
   "execution_count": 134,
   "metadata": {},
   "outputs": [
    {
     "data": {
      "text/plain": [
       "[(4, 64), (3, 27), (2, 8), (1, 1), (0, 0)]"
      ]
     },
     "execution_count": 134,
     "metadata": {},
     "output_type": "execute_result"
    }
   ],
   "source": [
    "#option 1\n",
    "sorted(dictQ1.items(),reverse=True)\n"
   ]
  },
  {
   "cell_type": "code",
   "execution_count": 14,
   "metadata": {},
   "outputs": [
    {
     "name": "stdout",
     "output_type": "stream",
     "text": [
      "4:64\n",
      "3:27\n",
      "2:8\n",
      "1:1\n",
      "0:0\n"
     ]
    }
   ],
   "source": [
    "#option 2 \n",
    "for x in sorted(dictQ1.keys(),reverse = True):\n",
    "    print(f'{x}:{dictQ1[x]}')"
   ]
  },
  {
   "cell_type": "markdown",
   "metadata": {},
   "source": [
    "## Question 3: Coding basic loops (Experimenting with `for` loops)\n",
    "### 3.A Write a `for` loop that prints ASCII code of each character in a string named `S`. Use the built-in function `ord(character)` to convert each character to an ASCII integer."
   ]
  },
  {
   "cell_type": "code",
   "execution_count": 16,
   "metadata": {},
   "outputs": [
    {
     "data": {
      "text/plain": [
       "[72, 105, 32, 77, 101, 108, 97, 110, 105, 101]"
      ]
     },
     "execution_count": 16,
     "metadata": {},
     "output_type": "execute_result"
    }
   ],
   "source": [
    "# add your code here\n",
    "s = 'Hi Melanie'\n",
    "char_s = list(s)\n",
    "i = 0\n",
    "for x in char_s: \n",
    "    char_s[i]= ord(x)\n",
    "    i+= 1\n",
    "char_s"
   ]
  },
  {
   "cell_type": "code",
   "execution_count": 102,
   "metadata": {},
   "outputs": [],
   "source": [
    "#testing as function\n",
    "def q3func(s):\n",
    "    char_s = list(s)\n",
    "    i = 0\n",
    "    for x in char_s: \n",
    "        char_s[i]= ord(x)\n",
    "        i+= 1\n",
    "    return(char_s)\n"
   ]
  },
  {
   "cell_type": "code",
   "execution_count": 160,
   "metadata": {},
   "outputs": [
    {
     "data": {
      "text/plain": [
       "[72, 105, 32, 77, 101, 108, 97, 110, 105, 101]"
      ]
     },
     "execution_count": 160,
     "metadata": {},
     "output_type": "execute_result"
    }
   ],
   "source": [
    "s = 'Hi Melanie'\n",
    "q3func(s)"
   ]
  },
  {
   "cell_type": "markdown",
   "metadata": {},
   "source": [
    "### 3.B Next, change your loop to compute the `sum` of the ASCII codes of all the characters in a string. "
   ]
  },
  {
   "cell_type": "code",
   "execution_count": 17,
   "metadata": {},
   "outputs": [
    {
     "name": "stdout",
     "output_type": "stream",
     "text": [
      "ASCII string: [72, 105, 32, 77, 101, 108, 97, 110, 105, 101]\n",
      "Sum of ASCII codes: 908\n"
     ]
    }
   ],
   "source": [
    "s = 'Hi Melanie'\n",
    "char_s = list(s)\n",
    "i = 0\n",
    "total = 0\n",
    "for x in char_s: \n",
    "    char_s[i]= ord(x)\n",
    "    total+=char_s[i]\n",
    "    i+= 1\n",
    "    \n",
    "print(f'ASCII string: {char_s}')\n",
    "print(f'Sum of ASCII codes: {total}')"
   ]
  },
  {
   "cell_type": "code",
   "execution_count": 18,
   "metadata": {},
   "outputs": [
    {
     "name": "stdout",
     "output_type": "stream",
     "text": [
      "ASCII string: [72, 105, 32, 77, 101, 108, 97, 110, 105, 101]\n",
      "Sum of ASCII codes: 908\n"
     ]
    }
   ],
   "source": [
    "#testing as function\n",
    "def q3sum(s):\n",
    "    char_s = list(s)\n",
    "    i = 0\n",
    "    total = 0\n",
    "    for x in char_s: \n",
    "        char_s[i]= ord(x)\n",
    "        total+=char_s[i]\n",
    "        i+= 1\n",
    "    print(f'ASCII string: {char_s}')\n",
    "    print(f'Sum of ASCII codes: {total}')\n",
    "\n",
    "s = 'Hi Melanie'\n",
    "q3sum(s)"
   ]
  },
  {
   "cell_type": "markdown",
   "metadata": {},
   "source": [
    "### 3.C Finally, modify your code again to return a new list that **contains** the ASCII codes of each character in the string. Try using the  `map(ord,S)` expression. Does the espression `map(ord,S)` have a similar effect? How about `[ord(c) for c in S]`. Why?"
   ]
  },
  {
   "cell_type": "code",
   "execution_count": 19,
   "metadata": {},
   "outputs": [
    {
     "data": {
      "text/plain": [
       "[72, 105, 32, 77, 101, 108, 97, 110, 105, 101]"
      ]
     },
     "execution_count": 19,
     "metadata": {},
     "output_type": "execute_result"
    }
   ],
   "source": [
    "s=\"Hi Melanie\"\n",
    "mapTest = map(ord,s)\n",
    "list(mapTest)"
   ]
  },
  {
   "cell_type": "code",
   "execution_count": 20,
   "metadata": {},
   "outputs": [
    {
     "data": {
      "text/plain": [
       "[72, 105, 32, 77, 101, 108, 97, 110, 105, 101]"
      ]
     },
     "execution_count": 20,
     "metadata": {},
     "output_type": "execute_result"
    }
   ],
   "source": [
    "compTest = [ord(c) for c in s]\n",
    "compTest"
   ]
  },
  {
   "cell_type": "code",
   "execution_count": 156,
   "metadata": {},
   "outputs": [
    {
     "data": {
      "text/plain": [
       "\"The results are the same as my for loop code when using map() or list comprehension because these functions are iterating through the sentence 's' and converting each character its ASCII code.\""
      ]
     },
     "execution_count": 156,
     "metadata": {},
     "output_type": "execute_result"
    }
   ],
   "source": [
    "# explain why!\n",
    "'''The results are the same as my for loop code when using map() or list comprehension because these functions are iterating through the sentence 's' and converting each character its ASCII code.'''"
   ]
  },
  {
   "cell_type": "markdown",
   "metadata": {},
   "source": [
    "## Question 4: Fill the missing sections of the `count_even_numbers` function\n",
    "Fill `____` sections of the `count_even_numbers` implemention in order to pass the assertions. You can assume that `numbers` argument is a list of integers.\n",
    "\n",
    "Note: `assertions` are simply boolean expressions that checks if the conditions return true or not. If it is true, the program does nothing and move to the next line of code. However, if it's false, the program stops and throws an error.\n",
    "\n",
    "Here in the code section, the `assert` is assuming your function name is 'count_even_numbers' and it is receiving a parameter that is a list of numbers. As in the examples below, the list may have a varying lenght. "
   ]
  },
  {
   "cell_type": "markdown",
   "metadata": {},
   "source": [
    "```python\n",
    "____ count_even_numbers(numbers):\n",
    "    count = 0\n",
    "    for num in ____:\n",
    "        if ____ % 2 == ____:\n",
    "            count += ____\n",
    "    _____ _____\n",
    "```"
   ]
  },
  {
   "cell_type": "code",
   "execution_count": 21,
   "metadata": {},
   "outputs": [],
   "source": [
    "def count_even_numbers(numbers):\n",
    "    count = 0\n",
    "    for num in numbers:\n",
    "        if num % 2 == 0:\n",
    "            count += 1\n",
    "    return count"
   ]
  },
  {
   "cell_type": "code",
   "execution_count": 22,
   "metadata": {},
   "outputs": [],
   "source": [
    "assert count_even_numbers([1, 2, 3, 4, 5, 6]) == 3 # given the input, does the function result equal to 3? if yes, pass else raise an issue\n",
    "assert count_even_numbers([1, 3, 5, 7]) == 0\n",
    "assert count_even_numbers([-2, 2, -10, 8]) == 4"
   ]
  },
  {
   "cell_type": "markdown",
   "metadata": {},
   "source": [
    "## Question 5: Write a function that checks whether a number is in a given range (Inclusive of high and inclusive of low)\n",
    "\n",
    "sample test: \n",
    "range_check(n,low,high)\n",
    "- assert range_check(7,5,7) == True\n",
    "- assert range_check(2,4,6) == False\n",
    "\n",
    "Here the assert function is assuming your function name is 'range_check', and there are 3 parameters user will be providing; number to check, the low and the high value; result is either `True` or `False`. \n",
    "Here is the function definition:\n",
    "\n",
    "    range_check(search_number,low,high)"
   ]
  },
  {
   "cell_type": "code",
   "execution_count": 23,
   "metadata": {},
   "outputs": [],
   "source": [
    "# add your code here\n",
    "def range_check(search_number,low,high):\n",
    "    if search_number in range(low,high+1):\n",
    "        return True\n",
    "    else:\n",
    "        return False"
   ]
  },
  {
   "cell_type": "code",
   "execution_count": 26,
   "metadata": {},
   "outputs": [],
   "source": [
    "# test whether your function works. \n",
    "assert range_check(7,5,7)== True # given the input, does the function result equal to True? if yes, pass, else raise an issue\n",
    "assert range_check(2,4,6)== False"
   ]
  },
  {
   "cell_type": "markdown",
   "metadata": {},
   "source": [
    "## Question 6: Write a function where user is asked to make an entry, and the square of the entry is printed. You can use a `while` loop with a `try`,`except`, `else` block to account for incorrect inputs. \n",
    "\n",
    "User will call the function once, and function will request an entry. If the entry is valid then the function will print out the square of the entry. If not valid, then user will be prompted to the error, and asked to enter a new value. \n",
    "\n",
    "For this exercise, one of the solutions includes using `break` and `continue` statements as well as `try`,`except`, `else` block with `while`. You may have a different version, importance is on whether when called your function should execute as described. If your solution is able to meet the requirements, that just means you may have a valid alternative solution!"
   ]
  },
  {
   "cell_type": "code",
   "execution_count": 30,
   "metadata": {},
   "outputs": [],
   "source": [
    "# add your code here\n",
    "def square():\n",
    "    while True: \n",
    "        x = input(\"Enter a number: \")\n",
    "        try:\n",
    "            print(f'The square of your input {x} is {int(x)**2}.')\n",
    "            break\n",
    "        except:\n",
    "            print('ERROR '*3)\n"
   ]
  },
  {
   "cell_type": "code",
   "execution_count": 31,
   "metadata": {},
   "outputs": [
    {
     "name": "stdout",
     "output_type": "stream",
     "text": [
      "Enter a number: asd\n",
      "ERROR ERROR ERROR \n",
      "Enter a number: asd\n",
      "ERROR ERROR ERROR \n",
      "Enter a number: 1\n",
      "The square of your input 1 is 1.\n"
     ]
    }
   ],
   "source": [
    "square()"
   ]
  },
  {
   "cell_type": "markdown",
   "metadata": {},
   "source": [
    "## Question 7: Write a list comprehension to calculate Fahrenheit of a Celcius temperature"
   ]
  },
  {
   "cell_type": "code",
   "execution_count": 32,
   "metadata": {},
   "outputs": [
    {
     "data": {
      "text/plain": [
       "[59.0, 93.2, 149.0, 73.4, 32.0]"
      ]
     },
     "execution_count": 32,
     "metadata": {},
     "output_type": "execute_result"
    }
   ],
   "source": [
    "Celcius = [15,34,65,23,0]\n",
    "Fahrenheit = [x*9/5+32 for x in Celcius] \n",
    "Fahrenheit\n"
   ]
  },
  {
   "cell_type": "markdown",
   "metadata": {},
   "source": [
    "## Question 8: Find all prime numbers between 1 and 100\n",
    "You can use a list comprehension, a function, recursion or any other method. Best would be to create a recursive function. \n",
    "A prime number is greater than 1. It's factors are 1 and itself."
   ]
  },
  {
   "cell_type": "code",
   "execution_count": 33,
   "metadata": {},
   "outputs": [],
   "source": [
    "def prime(n):\n",
    "    num = 1\n",
    "    prime_num = []\n",
    "    while(num <= n):\n",
    "        count = 0\n",
    "        i = 2\n",
    "        while(i <= num//2):\n",
    "            if(num % i == 0):\n",
    "                count = count + 1\n",
    "                break\n",
    "            i = i + 1\n",
    "            \n",
    "        if (count == 0 and num != 1):\n",
    "            prime_num.append(num)\n",
    "        num = num  + 1\n",
    "    return prime_num"
   ]
  },
  {
   "cell_type": "code",
   "execution_count": 34,
   "metadata": {},
   "outputs": [
    {
     "data": {
      "text/plain": [
       "[2,\n",
       " 3,\n",
       " 5,\n",
       " 7,\n",
       " 11,\n",
       " 13,\n",
       " 17,\n",
       " 19,\n",
       " 23,\n",
       " 29,\n",
       " 31,\n",
       " 37,\n",
       " 41,\n",
       " 43,\n",
       " 47,\n",
       " 53,\n",
       " 59,\n",
       " 61,\n",
       " 67,\n",
       " 71,\n",
       " 73,\n",
       " 79,\n",
       " 83,\n",
       " 89,\n",
       " 97]"
      ]
     },
     "execution_count": 34,
     "metadata": {},
     "output_type": "execute_result"
    }
   ],
   "source": [
    "prime(100)"
   ]
  },
  {
   "cell_type": "markdown",
   "metadata": {},
   "source": [
    "## Question 9: Use the `map` function to find the length of each word in a  phrase and return the values in a list.\n",
    "Here assumption is the function name is \"len_of_strings\" and the function will have an input of a string, and output a list of integers.\n",
    "\n",
    "in >> ```len_of_strings('Find the lenght of each word in this phrase')```\n",
    "\n",
    "out >> ```[4, 3, 6, 2, 4, 4, 2, 4, 6]```"
   ]
  },
  {
   "cell_type": "code",
   "execution_count": 35,
   "metadata": {},
   "outputs": [],
   "source": [
    "def len_of_strings(s):\n",
    "    out = list(map(len,s.split()))\n",
    "    print(out)"
   ]
  },
  {
   "cell_type": "code",
   "execution_count": 36,
   "metadata": {},
   "outputs": [
    {
     "name": "stdout",
     "output_type": "stream",
     "text": [
      "[4, 3, 6, 2, 4, 4, 2, 4, 6]\n"
     ]
    }
   ],
   "source": [
    "len_of_strings('Find the length of each word in this phrase')"
   ]
  },
  {
   "cell_type": "markdown",
   "metadata": {},
   "source": [
    "## Question 10: Create a function that uses `filter` to return words from a list of words that starts with a given letter.\n",
    "The function will have an input of a string, and output a list of integers. example:\n",
    "\n",
    "in >> ```find_words(['lettuce','beans','apple','cat','dog','boy','girl','chicago','type'],'b')```\n",
    "\n",
    "out >> ```['beans', 'boy']```\n",
    "\n",
    "Here the example assumes your function name is \"find_words\" and as a param, it takes a list of strings and a letter to compare.\n",
    "\n",
    "**Hint:** you may want to use a `lambda` function to use with filter!"
   ]
  },
  {
   "cell_type": "code",
   "execution_count": 37,
   "metadata": {},
   "outputs": [],
   "source": [
    "def find_words(string,first_letter):\n",
    "    out = filter(lambda x: x[0]== first_letter,string) \n",
    "    print(list(out))"
   ]
  },
  {
   "cell_type": "code",
   "execution_count": 40,
   "metadata": {},
   "outputs": [
    {
     "name": "stdout",
     "output_type": "stream",
     "text": [
      "['beans', 'boy']\n"
     ]
    }
   ],
   "source": [
    "find_words(['lettuce','beans','apple','cat','dog','boy','girl','chicago','type'],'b')"
   ]
  },
  {
   "cell_type": "markdown",
   "metadata": {},
   "source": [
    "*** Graded Assignment COMPLETE. ***"
   ]
  },
  {
   "cell_type": "markdown",
   "metadata": {},
   "source": [
    "## BONUS QUESTION: Consider the following code, which uses a `while` loop and `found` flag to search a list of powers of 2 for the value of 2 raised to the fifth power (32)."
   ]
  },
  {
   "cell_type": "code",
   "execution_count": 1,
   "metadata": {},
   "outputs": [
    {
     "name": "stdout",
     "output_type": "stream",
     "text": [
      "at index 4\n"
     ]
    }
   ],
   "source": [
    "L = [1,2,4,8,32,64]\n",
    "X = 5\n",
    "\n",
    "found = False\n",
    "i = 0\n",
    "while not found and i<len(L):\n",
    "    if 2**X == L[i]: \n",
    "        found = True\n",
    "    else:\n",
    "        i = i+1\n",
    "if found: \n",
    "    print ('at index',i)\n",
    "else:\n",
    "    print (X,'not found')"
   ]
  },
  {
   "cell_type": "markdown",
   "metadata": {},
   "source": [
    "**The code doesn't follow normal Python coding techniques, it is rather inefficient. Follow the steps below to improve the code.**"
   ]
  },
  {
   "cell_type": "markdown",
   "metadata": {},
   "source": [
    "**Step 1: Rewrite the code with a `while`  loop and `else` clause to eliminate the `found` flag and final `if` statement.** \n",
    "\n",
    "`while` loops can be used with and `else` statement, find out in which cases the `else` statement executes. You may want to look at `break` can be used as well. "
   ]
  },
  {
   "cell_type": "code",
   "execution_count": 113,
   "metadata": {},
   "outputs": [
    {
     "name": "stdout",
     "output_type": "stream",
     "text": [
      "Found at index: 4\n"
     ]
    }
   ],
   "source": [
    "# add your code here\n",
    "L = [1,2,4,8,32,64]\n",
    "X = 5\n",
    "i=0\n",
    "while True: \n",
    "    if 2**X == L[i]:\n",
    "        print(f'Found at index: {i}')\n",
    "        break\n",
    "    else:\n",
    "        i+=1\n",
    "    "
   ]
  },
  {
   "cell_type": "markdown",
   "metadata": {},
   "source": [
    "**Step 2: Rewrite the example to use a for loop with an `else` clause, to eliminate the explicit list-indexing logic.(Hint: to get the index of an item, use the list `index` method -- `L.index(X)` returns the offset of the first `X` in list `L`**."
   ]
  },
  {
   "cell_type": "code",
   "execution_count": 41,
   "metadata": {},
   "outputs": [
    {
     "data": {
      "text/plain": [
       "4"
      ]
     },
     "execution_count": 41,
     "metadata": {},
     "output_type": "execute_result"
    }
   ],
   "source": [
    "# add your code here\n",
    "L = [1,2,4,8,32,64]\n",
    "X = 5\n",
    "L.index(2**X,0,len(L)+1)\n",
    "        "
   ]
  },
  {
   "cell_type": "markdown",
   "metadata": {},
   "source": [
    "**Step 3: Remove the `for` loop completely by rewriting the example with a simple `in` operator membership expression.**"
   ]
  },
  {
   "cell_type": "code",
   "execution_count": 42,
   "metadata": {},
   "outputs": [
    {
     "data": {
      "text/plain": [
       "True"
      ]
     },
     "execution_count": 42,
     "metadata": {},
     "output_type": "execute_result"
    }
   ],
   "source": [
    "# add your code here\n",
    "2**X in L"
   ]
  },
  {
   "cell_type": "markdown",
   "metadata": {},
   "source": [
    "**Step 4: Use a `for` loop and the list `append` method to generate the powers-of-2 list (`L`) instead of hardcoding a list literal**"
   ]
  },
  {
   "cell_type": "code",
   "execution_count": 43,
   "metadata": {},
   "outputs": [
    {
     "data": {
      "text/plain": [
       "[2, 4, 8, 16, 32, 64, 128, 256, 512]"
      ]
     },
     "execution_count": 43,
     "metadata": {},
     "output_type": "execute_result"
    }
   ],
   "source": [
    "# add your code here\n",
    "L = []\n",
    "for i in range(1,10):\n",
    "    L.append(2**i)\n",
    "L"
   ]
  },
  {
   "cell_type": "markdown",
   "metadata": {},
   "source": [
    "**Step 5: Would a list comprehension help here? If so, write the list comprehension version.**"
   ]
  },
  {
   "cell_type": "code",
   "execution_count": 44,
   "metadata": {},
   "outputs": [
    {
     "data": {
      "text/plain": [
       "[2, 4, 8, 16, 32, 64, 128, 256, 512]"
      ]
     },
     "execution_count": 44,
     "metadata": {},
     "output_type": "execute_result"
    }
   ],
   "source": [
    "# add your code here\n",
    "L = [2**i for i in range(1,10)]\n",
    "L"
   ]
  },
  {
   "cell_type": "markdown",
   "metadata": {},
   "source": [
    "*** BONUS COMPLETE. ***"
   ]
  }
 ],
 "metadata": {
  "kernelspec": {
   "display_name": "Python 3",
   "language": "python",
   "name": "python3"
  },
  "language_info": {
   "codemirror_mode": {
    "name": "ipython",
    "version": 3
   },
   "file_extension": ".py",
   "mimetype": "text/x-python",
   "name": "python",
   "nbconvert_exporter": "python",
   "pygments_lexer": "ipython3",
   "version": "3.7.6"
  }
 },
 "nbformat": 4,
 "nbformat_minor": 2
}
