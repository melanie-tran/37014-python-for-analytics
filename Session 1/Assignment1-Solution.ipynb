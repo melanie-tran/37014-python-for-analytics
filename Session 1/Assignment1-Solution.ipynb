{
 "cells": [
  {
   "cell_type": "markdown",
   "metadata": {},
   "source": [
    "# Graded Assignment 1\n",
    "\n",
    "**Please do not share this material on any platform or by any other means.**\n",
    "\n",
    "Objectives:\n",
    "    - Dictionary comprehension\n",
    "    - `for` loops\n",
    "    - Functions and recursive functions\n",
    "    - `map` and `filter`\n",
    "    - Bonus:Improving coding, loops & list comprehension\n",
    "\n",
    "\n",
    "### **Important Notes:** \n",
    "\n",
    "**Your code must run without any errors start to end.**\n",
    "\n",
    "* Purpose of the assignment is to assess your knowledge and command of the Python programming language and your ability to resolve common errors. Grading is based on the code you are submitting, not the formatting of the results. \n",
    "* Please use the examples as a guideline, you are not expected to have the same formatting as the example, unless it is a formatting question. \n",
    "* Remember, there are many ways to code that can lead to the correct answer, do not hesitate to exercise your own style and python programming coventions. "
   ]
  },
  {
   "cell_type": "markdown",
   "metadata": {},
   "source": [
    "## Question 1: Create this dictionary: {0: 0, 1: 1, 2: 8, 3: 27, 4: 64} using dictionary comprehension."
   ]
  },
  {
   "cell_type": "code",
   "execution_count": 2,
   "metadata": {},
   "outputs": [],
   "source": [
    "# add your code here\n"
   ]
  },
  {
   "cell_type": "code",
   "execution_count": 2,
   "metadata": {},
   "outputs": [
    {
     "data": {
      "text/plain": [
       "{0: 0, 1: 1, 2: 8, 3: 27, 4: 64}"
      ]
     },
     "execution_count": 2,
     "metadata": {},
     "output_type": "execute_result"
    }
   ],
   "source": [
    "#Solution 1\n",
    "{x:x**3 for x in range(5)}"
   ]
  },
  {
   "cell_type": "markdown",
   "metadata": {},
   "source": [
    "## Question 2: Sort the dictionary in descending order you created in Q1. \n",
    "Dictionaries are unordered collections. Write a `for` loop that prints the items (keys and values) in the dictionary you created in Q1 in DESCENDING sorted order. (Hint: use the `keys` and list `sort` methods, or `sorted` function)"
   ]
  },
  {
   "cell_type": "code",
   "execution_count": 6,
   "metadata": {},
   "outputs": [],
   "source": [
    "d = {x:x**3 for x in range(5)}"
   ]
  },
  {
   "cell_type": "code",
   "execution_count": 5,
   "metadata": {},
   "outputs": [
    {
     "name": "stdout",
     "output_type": "stream",
     "text": [
      "Sorted by value descending, using for loop:\n",
      "4 64\n",
      "3 27\n",
      "2 8\n",
      "1 1\n",
      "0 0\n"
     ]
    }
   ],
   "source": [
    "#Sort by key-value using for loop descending\n",
    "sorted_dict1 = sorted(d.items(), key=lambda x: x[1], reverse=True)\n",
    "\n",
    "print(\"Sorted by value descending, using for loop:\")\n",
    "for i in sorted_dict1:\n",
    "    print(i[0], i[1])"
   ]
  },
  {
   "cell_type": "markdown",
   "metadata": {},
   "source": [
    "## Question 3: Coding basic loops (Experimenting with `for` loops)\n",
    "### 3.A Write a `for` loop that prints ASCII code of each character in a string named `S`. Use the built-in function `ord(character)` to convert each character to an ASCII integer."
   ]
  },
  {
   "cell_type": "code",
   "execution_count": 2,
   "metadata": {},
   "outputs": [],
   "source": [
    "# add your code here\n"
   ]
  },
  {
   "cell_type": "code",
   "execution_count": 3,
   "metadata": {},
   "outputs": [
    {
     "name": "stdout",
     "output_type": "stream",
     "text": [
      "115\n",
      "112\n",
      "97\n",
      "109\n"
     ]
    }
   ],
   "source": [
    "S = 'spam'\n",
    "for c in S: print (ord(c))"
   ]
  },
  {
   "cell_type": "markdown",
   "metadata": {},
   "source": [
    "### 3.B Next, change your loop to compute the `sum` of the ASCII codes of all the characters in a string. "
   ]
  },
  {
   "cell_type": "code",
   "execution_count": 2,
   "metadata": {},
   "outputs": [],
   "source": [
    "# add your code here\n"
   ]
  },
  {
   "cell_type": "code",
   "execution_count": 3,
   "metadata": {},
   "outputs": [
    {
     "name": "stdout",
     "output_type": "stream",
     "text": [
      "Total is: 433\n"
     ]
    }
   ],
   "source": [
    "S = 'spam'\n",
    "total = 0\n",
    "for c in S: \n",
    "    total += ord(c)\n",
    "print ('Total is:',total)"
   ]
  },
  {
   "cell_type": "markdown",
   "metadata": {},
   "source": [
    "### 3.C Finally, modify your code again to return a new list that **contains** the ASCII codes of each character in the string. Does the espression `map(ord,S)` have a similar effect? How about `[ord(c) for c in S]` Why?"
   ]
  },
  {
   "cell_type": "code",
   "execution_count": 2,
   "metadata": {},
   "outputs": [],
   "source": [
    "# add your code here\n"
   ]
  },
  {
   "cell_type": "code",
   "execution_count": 6,
   "metadata": {},
   "outputs": [
    {
     "name": "stdout",
     "output_type": "stream",
     "text": [
      "[115, 112, 97, 109]\n"
     ]
    }
   ],
   "source": [
    "# solution\n",
    "S = 'spam'\n",
    "new_list=[]\n",
    "for c in S: new_list.append(ord(c))\n",
    "print (new_list)"
   ]
  },
  {
   "cell_type": "code",
   "execution_count": 7,
   "metadata": {},
   "outputs": [
    {
     "data": {
      "text/plain": [
       "[115, 112, 97, 109]"
      ]
     },
     "execution_count": 7,
     "metadata": {},
     "output_type": "execute_result"
    }
   ],
   "source": [
    "# list comprehension version\n",
    "S = 'spam'\n",
    "new_list = [ord(c) for c in S] \n",
    "new_list"
   ]
  },
  {
   "cell_type": "code",
   "execution_count": 9,
   "metadata": {},
   "outputs": [
    {
     "data": {
      "text/plain": [
       "[115, 112, 97, 109]"
      ]
     },
     "execution_count": 9,
     "metadata": {},
     "output_type": "execute_result"
    }
   ],
   "source": [
    "# map version\n",
    "S = 'spam'\n",
    "new_list = list(map(ord,S))\n",
    "new_list"
   ]
  },
  {
   "cell_type": "markdown",
   "metadata": {},
   "source": [
    "Discussion: Yes, the results is the same with the 3 methods; map and list comprehensions automate list builders "
   ]
  },
  {
   "cell_type": "markdown",
   "metadata": {},
   "source": [
    "## Question 4: Fill the missing pieces of the `count_even_numbers` function\n",
    "Fill `____` pieces of the `count_even_numbers` implemention in order to pass the assertions. You can assume that `numbers` argument is a list of integers.\n",
    "\n",
    "Note: `assertions` are simply boolean expressions that checks if the conditions return true or not. If it is true, the program does nothing and move to the next line of code. However, if it's false, the program stops and throws an error.\n",
    "\n",
    "Here in the code section, the `assert` is assuming your function name is 'count_even_numbers' and it is receiving a param that is a list of numbers. As in the examples below, the list may have a varying lenght. "
   ]
  },
  {
   "cell_type": "markdown",
   "metadata": {},
   "source": [
    "```python\n",
    "____ count_even_numbers(numbers):\n",
    "    count = 0\n",
    "    for num in ____:\n",
    "        if ____ % 2 == ____:\n",
    "            count += ____\n",
    "    _____ _____\n",
    "```"
   ]
  },
  {
   "cell_type": "code",
   "execution_count": 11,
   "metadata": {},
   "outputs": [],
   "source": [
    "# Solution 2\n",
    "def count_even_numbers(numbers):\n",
    "    #print (numbers)\n",
    "    count = 0\n",
    "    for num in numbers:\n",
    "        #print (num)\n",
    "        if num % 2 == 0: count += 1\n",
    "    return count"
   ]
  },
  {
   "cell_type": "code",
   "execution_count": 12,
   "metadata": {},
   "outputs": [],
   "source": [
    "assert count_even_numbers([1, 2, 3, 4, 5, 6]) == 3\n",
    "assert count_even_numbers([1, 3, 5, 7]) == 0\n",
    "assert count_even_numbers([-2, 2, -10, 8]) == 4"
   ]
  },
  {
   "cell_type": "markdown",
   "metadata": {},
   "source": [
    "## Question 5: Write a function that checks whether a number is in a given range (Inclusive of high and inclusive of low)\n",
    "\n",
    "sample test: \n",
    "range_check(n,low,high)\n",
    "- assert range_check(7,5,7) == True\n",
    "- assert range_check(2,4,6) == False\n",
    "\n",
    "Here the assert function is assuming your function name is 'range_check', and there are 3 parameters user will be providing; number to check, the low and the high value: \n",
    "\n",
    "    range_check(search_number,low,high)"
   ]
  },
  {
   "cell_type": "code",
   "execution_count": 10,
   "metadata": {},
   "outputs": [],
   "source": [
    "# add your code here\n",
    "\n"
   ]
  },
  {
   "cell_type": "code",
   "execution_count": 15,
   "metadata": {},
   "outputs": [],
   "source": [
    "# test Q5 \n",
    "assert range_check(7,5,7)== True\n",
    "assert range_check(2,4,6)==False"
   ]
  },
  {
   "cell_type": "code",
   "execution_count": 11,
   "metadata": {},
   "outputs": [],
   "source": [
    "# Solution Q5\n",
    "def range_check(search_number,low,high):\n",
    "    if n in range(low,high+1):\n",
    "        return True\n",
    "    else:return False"
   ]
  },
  {
   "cell_type": "markdown",
   "metadata": {},
   "source": [
    "## Question 6: Write a function where user is asked to make an entry, and the square of the entry is printed. Use a `while` loop with a `try`,`except`, `else` block to account for incorrect inputs. \n",
    "\n",
    "User will call the function once, and function will request an entry. If the entry is, valid then the function will print out the square of the entry. If not valid, then user will be prompted to the error, and asked to enter a new value. \n",
    "\n",
    "For this exercise, a solution includes using `break` and `continue` statements as well as `try`,`except`, `else` block with `while`. You may have a different version, importance is on whether when called can your function execute as described. "
   ]
  },
  {
   "cell_type": "code",
   "execution_count": 16,
   "metadata": {},
   "outputs": [],
   "source": [
    "# add your code here\n",
    "\n",
    "\n"
   ]
  },
  {
   "cell_type": "code",
   "execution_count": 8,
   "metadata": {},
   "outputs": [],
   "source": [
    "def ask():\n",
    "    while True:\n",
    "        try:\n",
    "            n = input('Please enter a value:')\n",
    "            print ('Thank you, you number squared is: ',float(n)**2)\n",
    "        except:\n",
    "            print ('An error occurred! Please try again!')\n",
    "            continue\n",
    "        else:\n",
    "            break"
   ]
  },
  {
   "cell_type": "code",
   "execution_count": 9,
   "metadata": {},
   "outputs": [
    {
     "name": "stdout",
     "output_type": "stream",
     "text": [
      "Please enter a value:aaa\n",
      "An error occurred! Please try again!\n",
      "Please enter a value:2.5\n",
      "Thank you, you number squared is:  6.25\n"
     ]
    }
   ],
   "source": [
    "ask()"
   ]
  },
  {
   "cell_type": "markdown",
   "metadata": {},
   "source": [
    "## Question 7: Write a list comprehension to calculate Fahrenheit of a Celcius temperature"
   ]
  },
  {
   "cell_type": "code",
   "execution_count": 18,
   "metadata": {},
   "outputs": [
    {
     "data": {
      "text/plain": [
       "[]"
      ]
     },
     "execution_count": 18,
     "metadata": {},
     "output_type": "execute_result"
    }
   ],
   "source": [
    "Celcius = [15,34,65,23,0]\n",
    "Fahrenheit = [  ] # add your code here\n",
    "Fahrenheit"
   ]
  },
  {
   "cell_type": "code",
   "execution_count": 19,
   "metadata": {},
   "outputs": [
    {
     "data": {
      "text/plain": [
       "[59.0, 93.2, 149.0, 73.4, 32.0]"
      ]
     },
     "execution_count": 19,
     "metadata": {},
     "output_type": "execute_result"
    }
   ],
   "source": [
    "# Solution \n",
    "Celcius = [15,34,65,23,0]\n",
    "Fahrenheit = [ ((9.0/5)*temp + 32) for temp in Celcius]\n",
    "Fahrenheit"
   ]
  },
  {
   "cell_type": "markdown",
   "metadata": {},
   "source": [
    "## Question 8: Find all prime numbers between 1 and 100\n",
    "You can use a list comprehension, a function, recursion or any other method. Best would be to create a recursive function. \n",
    "A prime number is greater than 1. It's factors are 1 and itself."
   ]
  },
  {
   "cell_type": "code",
   "execution_count": 20,
   "metadata": {},
   "outputs": [
    {
     "name": "stdout",
     "output_type": "stream",
     "text": [
      "[2, 3, 5, 7, 11, 13, 17, 19, 23, 29, 31, 37, 41, 43, 47, 53, 59, 61, 67, 71, 73, 79, 83, 89, 97]"
     ]
    }
   ],
   "source": [
    "# Examples, a simple way\n",
    "n = 100\n",
    "# find all numbers that have factors of 2,3,4,5,6,7\n",
    "not_prime = [j for i in range(2,8) for j in range(i*2,n,i)]\n",
    "# find all numbers that are not in not_prime list\n",
    "prime_numbers = [x for x in range(2,n) if x not in not_prime]\n",
    "print (prime_numbers,end='')\n"
   ]
  },
  {
   "cell_type": "code",
   "execution_count": 21,
   "metadata": {},
   "outputs": [
    {
     "name": "stdout",
     "output_type": "stream",
     "text": [
      "[2, 3, 5, 7, 11, 13, 17, 19, 23, 29, 31, 37, 41, 43, 47, 53, 59, 61, 67, 71, 73, 79, 83, 89, 97]\n"
     ]
    }
   ],
   "source": [
    "# recursive version \n",
    "from math import sqrt\n",
    "\n",
    "def find_primes_rec(n):\n",
    "    # base case 0 \n",
    "    if n == 0:\n",
    "        return []\n",
    "    # base case 1\n",
    "    elif n == 1:\n",
    "        return []\n",
    "    else:\n",
    "        p = find_primes_rec(int(sqrt(n))) # recursive call\n",
    "        no_p = [j for i in p for j in range(i*2, n + 1, i)]\n",
    "        p = [x for x in range(2, n + 1) if x not in no_p]\n",
    "        return p\n",
    "\n",
    "\n",
    "print(find_primes_rec(100))"
   ]
  },
  {
   "cell_type": "code",
   "execution_count": 22,
   "metadata": {},
   "outputs": [
    {
     "name": "stdout",
     "output_type": "stream",
     "text": [
      "[2, 3, 5, 7, 11, 13, 17, 19, 23, 29, 31, 37, 41, 43, 47, 53, 59, 61, 67, 71, 73, 79, 83, 89, 97]\n"
     ]
    }
   ],
   "source": [
    "'''\n",
    "alternative version: \n",
    "Create a list of integers from two to n: 2, 3, 4, ..., n\n",
    "Start with a counter i set to 2, i.e. the first prime number\n",
    "Starting from i+i, count up by i and remove those numbers from the list, i.e. 2*i, 3*i, 4*i, aso..\n",
    "Find the first number of the list following i. This is the next prime number.\n",
    "Set i to the number found in the previous step\n",
    "Repeat steps 3 and 4 until i is greater than n. (As an improvement: It's enough to go to the square root of n)\n",
    "All the numbers, which are still in the list, are prime numbers\n",
    "'''\n",
    "from math import sqrt\n",
    "\n",
    "def find_primes(n):\n",
    "    '''returns all primes between 2 and n'''\n",
    "    primes = list(range(2,n+1))\n",
    "    max = sqrt(n)\n",
    "    num = 2\n",
    "    while num < max:\n",
    "        i = num\n",
    "        while i <= n:\n",
    "            i += num \n",
    "            if i in primes:\n",
    "                primes.remove(i)\n",
    "        for j in primes:\n",
    "            if j > num:\n",
    "                num = j\n",
    "                break\n",
    "    return primes\n",
    "\n",
    "print(find_primes(100))"
   ]
  },
  {
   "cell_type": "markdown",
   "metadata": {},
   "source": [
    "## Question 9: Use the `map` function to find the length of each word in a  phrase and return the values in a list.\n",
    "The function will have an input of a string, and output a list of integers.\n",
    "```python\n",
    "len_of_strings('Find the lenght of each word in this phrase')\n",
    "[4, 3, 6, 2, 4, 4, 2, 4, 6]\n",
    "```"
   ]
  },
  {
   "cell_type": "code",
   "execution_count": 23,
   "metadata": {},
   "outputs": [],
   "source": [
    "# add your code here\n",
    "\n",
    "\n"
   ]
  },
  {
   "cell_type": "code",
   "execution_count": 24,
   "metadata": {},
   "outputs": [
    {
     "data": {
      "text/plain": [
       "[4, 3, 6, 2, 4, 4, 2, 4, 6]"
      ]
     },
     "execution_count": 24,
     "metadata": {},
     "output_type": "execute_result"
    }
   ],
   "source": [
    "def len_of_strings(phrase): return list(map(len, phrase.split()))\n",
    "len_of_strings('Find the lenght of each word in this phrase')"
   ]
  },
  {
   "cell_type": "markdown",
   "metadata": {},
   "source": [
    "## Question 10: Create a function that uses `filter` to return words from a list of words that starts with a given letter.\n",
    "The function will have an input of a string, and output a list of integers. example:\n",
    "```python\n",
    "find_words(['lettuce','beans','apple','cat','dog','boy','girl','chicago','type'],'b')\n",
    "['beans', 'boy']\n",
    "```\n",
    "Hint: you can use a lambda function to use with filter!"
   ]
  },
  {
   "cell_type": "code",
   "execution_count": 25,
   "metadata": {},
   "outputs": [],
   "source": [
    "# add your code here\n"
   ]
  },
  {
   "cell_type": "code",
   "execution_count": 26,
   "metadata": {},
   "outputs": [
    {
     "data": {
      "text/plain": [
       "['beans', 'boy']"
      ]
     },
     "execution_count": 26,
     "metadata": {},
     "output_type": "execute_result"
    }
   ],
   "source": [
    "def find_words(string, letter):\n",
    "    return list(filter(lambda word: word[0]==letter,string))\n",
    "find_words(['lettuce','tomato','beans','apple','cat','dog','boy','girl','chicago','type'],'b')"
   ]
  },
  {
   "cell_type": "markdown",
   "metadata": {},
   "source": [
    "*** Graded Assignment COMPLETE ***"
   ]
  },
  {
   "cell_type": "markdown",
   "metadata": {},
   "source": [
    "## BONUS QUESTION: Consider the following code, which uses a `while` loop and `found` flag to search a list of powers of 2 for the value of 2 raised to the fifth power (32)."
   ]
  },
  {
   "cell_type": "code",
   "execution_count": 1,
   "metadata": {},
   "outputs": [
    {
     "name": "stdout",
     "output_type": "stream",
     "text": [
      "at index 4\n"
     ]
    }
   ],
   "source": [
    "L = [1,2,4,8,32,64]\n",
    "X = 5\n",
    "\n",
    "found = False\n",
    "i = 0\n",
    "while not found and i<len(L):\n",
    "    if 2**X == L[i]: \n",
    "        found = True\n",
    "    else:\n",
    "        i = i+1\n",
    "if found: \n",
    "    print ('at index',i)\n",
    "else:\n",
    "    print (X,'not found')"
   ]
  },
  {
   "cell_type": "markdown",
   "metadata": {},
   "source": [
    "**The code doesn't follow normal Python coding techniques, it is rather inefficient. Follow the steps below to improve the code.**"
   ]
  },
  {
   "cell_type": "markdown",
   "metadata": {},
   "source": [
    "**Step 1: Rewrite the code with a `while`  loop `else` clause to eliminate the `found` flag and final `if` statement.**"
   ]
  },
  {
   "cell_type": "code",
   "execution_count": 7,
   "metadata": {},
   "outputs": [
    {
     "name": "stdout",
     "output_type": "stream",
     "text": [
      "at index 4\n"
     ]
    }
   ],
   "source": [
    "# add your code here\n",
    "\n",
    "\n",
    "L = [1,2,4,8,32,64]\n",
    "X = 5\n",
    "\n",
    "found = False\n",
    "i = 0\n",
    "while i<len(L):\n",
    "    if 2**X == L[i]: \n",
    "        print ('at index',i)\n",
    "        break\n",
    "    i = i+1\n",
    "else:\n",
    "    print (X,'not found')"
   ]
  },
  {
   "cell_type": "markdown",
   "metadata": {},
   "source": [
    "**Step 2: Rewrite the example to use a for loop with an `else` clause, to eliminate the explicit list-indexing logic.(Hint: to get the index of an item, use the list `index` method -- `L.index(X)` returns the offset of the first `X` in list `L`**"
   ]
  },
  {
   "cell_type": "code",
   "execution_count": 1,
   "metadata": {},
   "outputs": [
    {
     "name": "stdout",
     "output_type": "stream",
     "text": [
      "32 was found at  0\n"
     ]
    }
   ],
   "source": [
    "# add your code here\n",
    "\n",
    "L = [1,2,4,8,32,64]\n",
    "X = 5\n",
    "for p in L:\n",
    "    print ((2**X),'was found at ',L.index(p))\n",
    "    break\n",
    "else:\n",
    "    print (X, 'not found')"
   ]
  },
  {
   "cell_type": "markdown",
   "metadata": {},
   "source": [
    "**Step 3: Remove the loop completely by rewriting the example with a simple `in` operator membership expression.**"
   ]
  },
  {
   "cell_type": "code",
   "execution_count": null,
   "metadata": {},
   "outputs": [],
   "source": [
    "# add your code here\n",
    "\n",
    "L = [1,2,4,8,32,64]\n",
    "X = 5\n",
    "if (2**X) in L:\n",
    "    print ((2**X),'was found at ',L.index(2**X))\n",
    "else:\n",
    "    print (X, 'not found')\n"
   ]
  },
  {
   "cell_type": "markdown",
   "metadata": {},
   "source": [
    "**Step 4: Use a `for` loop and the list `append` method to generate the powers-of-2 list (`L`) instead of hardcoding a list literal**"
   ]
  },
  {
   "cell_type": "code",
   "execution_count": null,
   "metadata": {},
   "outputs": [],
   "source": [
    "# add your code here\n",
    "\n",
    "X = 5\n",
    "L = []\n",
    "for i in range(7): L.append(2**i)\n",
    "print (L)\n",
    "\n",
    "if (2**X) in L:\n",
    "    print ((2**X),'was found at ',L.index(2**X))\n",
    "else:\n",
    "    print (X, 'not found')\n"
   ]
  },
  {
   "cell_type": "markdown",
   "metadata": {},
   "source": [
    "**Step 5: Would a list comprehension help here? If so, write the list comprehension version.**"
   ]
  },
  {
   "cell_type": "code",
   "execution_count": 9,
   "metadata": {},
   "outputs": [
    {
     "name": "stdout",
     "output_type": "stream",
     "text": [
      "[1, 2, 4, 8, 16, 32, 64]\n",
      "32 was found at  5\n"
     ]
    }
   ],
   "source": [
    "# add your code here\n",
    "\n",
    "X = 5\n",
    "L = list(map(lambda x: 2**x, range(7)))\n",
    "print (L)\n",
    "\n",
    "if (2**X) in L:\n",
    "    print ((2**X),'was found at ',L.index(2**X))\n",
    "else:\n",
    "    print (X, 'not found')\n"
   ]
  },
  {
   "cell_type": "markdown",
   "metadata": {},
   "source": [
    "**BONUS complete**"
   ]
  }
 ],
 "metadata": {
  "kernelspec": {
   "display_name": "Python 3",
   "language": "python",
   "name": "python3"
  },
  "language_info": {
   "codemirror_mode": {
    "name": "ipython",
    "version": 3
   },
   "file_extension": ".py",
   "mimetype": "text/x-python",
   "name": "python",
   "nbconvert_exporter": "python",
   "pygments_lexer": "ipython3",
   "version": "3.7.7"
  }
 },
 "nbformat": 4,
 "nbformat_minor": 2
}
