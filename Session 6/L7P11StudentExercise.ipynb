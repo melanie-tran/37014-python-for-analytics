{
 "cells": [
  {
   "cell_type": "markdown",
   "metadata": {},
   "source": [
    "# Handling Missing Data (Imputation)\n",
    "\n",
    "# Student Exercise\n",
    "\n",
    "Handling Missing Data: \n",
    "- dropna, isnull, notnull (filter out the missing data)\n",
    "  (dropna(axis = 0, how='all', treshold=2))\n",
    "- fillna (filling in missing data)\n",
    "  - functional arguments: value, method (default is ffill),axis,inplace,limit\n",
    "  - (fillna({1:0.5,2:0}) by giving a dict to fill in a different value for each column\n",
    "   fillna(0,inplace=True)\n",
    "\n",
    "- remove duplicates and date format"
   ]
  },
  {
   "cell_type": "code",
   "execution_count": null,
   "metadata": {},
   "outputs": [],
   "source": [
    "import pandas as pd\n",
    "import numpy as np\n",
    "# set seed\n",
    "np.random.seed(0)"
   ]
  },
  {
   "cell_type": "code",
   "execution_count": null,
   "metadata": {},
   "outputs": [],
   "source": [
    "# read the data\n"
   ]
  },
  {
   "cell_type": "code",
   "execution_count": null,
   "metadata": {},
   "outputs": [],
   "source": [
    "# check out the sf_permits dataset!\n"
   ]
  },
  {
   "cell_type": "code",
   "execution_count": null,
   "metadata": {},
   "outputs": [],
   "source": [
    "# Student section - Street Number Suffix\n",
    "# how does the Street Number Suffix column look like? \n",
    "# How should we treat these columns?\n"
   ]
  },
  {
   "cell_type": "code",
   "execution_count": null,
   "metadata": {},
   "outputs": [],
   "source": [
    "# Student section - Zipcode\n",
    "# how does the Zipcode column look like? \n",
    "# How should we treat these columns?\n"
   ]
  },
  {
   "cell_type": "markdown",
   "metadata": {},
   "source": [
    "# What do we do with missing values?\n",
    "\n",
    "## a) Drop missing values\n",
    "- dropna(): removes all the rows that contain a missing value\n",
    "    remove all columns with at least one missing value, set axis = 1"
   ]
  },
  {
   "cell_type": "code",
   "execution_count": null,
   "metadata": {},
   "outputs": [],
   "source": [
    "# if you remove all na, how many records are left?\n"
   ]
  },
  {
   "cell_type": "code",
   "execution_count": null,
   "metadata": {},
   "outputs": [],
   "source": [
    "# if you remove all the columns with na values, how many records are left?\n"
   ]
  },
  {
   "cell_type": "markdown",
   "metadata": {},
   "source": [
    "## b) Filling in missing values automatically"
   ]
  },
  {
   "cell_type": "code",
   "execution_count": null,
   "metadata": {},
   "outputs": [],
   "source": [
    "# replace with 0\n",
    "# if you replace the NaNs with 0\n"
   ]
  },
  {
   "cell_type": "code",
   "execution_count": null,
   "metadata": {},
   "outputs": [],
   "source": [
    "# replace with the value directly after it\n",
    "# if you replace the NaNs with 0\n"
   ]
  },
  {
   "cell_type": "markdown",
   "metadata": {},
   "source": [
    "# What else can we clean up?\n",
    "\n",
    "## 1. Check for Duplicates"
   ]
  },
  {
   "cell_type": "code",
   "execution_count": null,
   "metadata": {},
   "outputs": [],
   "source": [
    "# Check for dups in Sf_permits dataset\n"
   ]
  },
  {
   "cell_type": "markdown",
   "metadata": {},
   "source": [
    "## 2. Check the Date"
   ]
  },
  {
   "cell_type": "code",
   "execution_count": null,
   "metadata": {},
   "outputs": [],
   "source": [
    "# Check out the date information in the sf_permit dataset\n"
   ]
  },
  {
   "cell_type": "markdown",
   "metadata": {},
   "source": [
    "## 3. Convert date column to real date!\n",
    "- 1/17/07 has the format \"%m/%d/%y\"\n",
    "- 17-1-2007 has the format \"%d-%m-%Y\"\n",
    "\n",
    "There may be cases where the date column has multiple format, then use `infer_datetime_format=True`\n",
    "It is better to specify the date format, because `infer_datetime_format` isn't very efficient, and may be unable to identify the correct format. "
   ]
  },
  {
   "cell_type": "code",
   "execution_count": null,
   "metadata": {},
   "outputs": [],
   "source": [
    "# Update your date format! \n"
   ]
  },
  {
   "cell_type": "markdown",
   "metadata": {},
   "source": [
    "## 4. Using the date formated date column: \n"
   ]
  },
  {
   "cell_type": "code",
   "execution_count": null,
   "metadata": {},
   "outputs": [],
   "source": [
    "# Create a plot of your own for the sf_permits day of month! \n"
   ]
  },
  {
   "cell_type": "markdown",
   "metadata": {},
   "source": [
    "## 5. How else you can clean your data?"
   ]
  },
  {
   "cell_type": "code",
   "execution_count": null,
   "metadata": {},
   "outputs": [],
   "source": [
    "# what other suggestions ideas do you have for improving your dataset?\n"
   ]
  }
 ],
 "metadata": {
  "kernelspec": {
   "display_name": "Python 3",
   "language": "python",
   "name": "python3"
  },
  "language_info": {
   "codemirror_mode": {
    "name": "ipython",
    "version": 3
   },
   "file_extension": ".py",
   "mimetype": "text/x-python",
   "name": "python",
   "nbconvert_exporter": "python",
   "pygments_lexer": "ipython3",
   "version": "3.7.7"
  }
 },
 "nbformat": 4,
 "nbformat_minor": 2
}
