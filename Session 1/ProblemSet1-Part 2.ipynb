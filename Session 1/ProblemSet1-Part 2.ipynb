{
 "cells": [
  {
   "cell_type": "markdown",
   "metadata": {},
   "source": [
    "# Review of basic concepts\n",
    "\n",
    "**Please do not share with anyone or at any platform. Thank you.**"
   ]
  },
  {
   "cell_type": "markdown",
   "metadata": {},
   "source": [
    "### Question 6: Consider the following 3 statements, do they change the value printed for A. Explain why.\n",
    "```python\n",
    "A = 'spam'\n",
    "B = A\n",
    "B = 'strawberry'```"
   ]
  },
  {
   "cell_type": "code",
   "execution_count": null,
   "metadata": {},
   "outputs": [],
   "source": [
    "A = 'spam'\n",
    "B = A\n",
    "B = 'strawberry'\n",
    "print ('A:',A)\n",
    "print ('B:',B)"
   ]
  },
  {
   "cell_type": "markdown",
   "metadata": {},
   "source": [
    "### Question 7: Consider the following 3 statements, do they change the value printed for A. Explain why.\n",
    "```python\n",
    "A = ['spam']\n",
    "print ('A:',A)\n",
    "B = A\n",
    "B[0] = 'strawberry'\n",
    "print ('B:',B)\n",
    "print ('A:',A)\n",
    "```"
   ]
  },
  {
   "cell_type": "code",
   "execution_count": null,
   "metadata": {},
   "outputs": [],
   "source": [
    "A = ['spam']\n",
    "print ('A:',A)\n",
    "B = A\n",
    "B[0] = 'strawberry'\n",
    "print ('B:',B)\n",
    "print ('A:',A)"
   ]
  },
  {
   "cell_type": "markdown",
   "metadata": {},
   "source": [
    "### Question 8: Consider the following 3 statements, do they change the value printed for A. Explain why.\n",
    "```python\n",
    "A = ['spam']\n",
    "B = A[:]\n",
    "B[0] = 'strawberry'\n",
    "```"
   ]
  },
  {
   "cell_type": "code",
   "execution_count": null,
   "metadata": {},
   "outputs": [],
   "source": [
    "A = ['spam']\n",
    "B = A[:]\n",
    "B[0] = 'strawberry'\n",
    "\n",
    "# answer A didn't change\n",
    "# because we use the slice expression when B is created it has the same content "
   ]
  }
 ],
 "metadata": {
  "kernelspec": {
   "display_name": "Python 3",
   "language": "python",
   "name": "python3"
  },
  "language_info": {
   "codemirror_mode": {
    "name": "ipython",
    "version": 3
   },
   "file_extension": ".py",
   "mimetype": "text/x-python",
   "name": "python",
   "nbconvert_exporter": "python",
   "pygments_lexer": "ipython3",
   "version": "3.7.6"
  }
 },
 "nbformat": 4,
 "nbformat_minor": 2
}
