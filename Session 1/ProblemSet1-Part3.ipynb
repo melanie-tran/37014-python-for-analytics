{
 "cells": [
  {
   "cell_type": "markdown",
   "metadata": {},
   "source": [
    "# Review of basic concepts\n",
    "\n",
    "**Please do not share with anyone or at any platform. Thank you.**"
   ]
  },
  {
   "cell_type": "markdown",
   "metadata": {},
   "source": [
    "### Question 10: What does the code below do. Explain in a coincise manner. \n",
    "Remember to indent any dependencies.\n",
    "```python\n",
    "while True:\n",
    "    reply = input('Enter text:')\n",
    "    if reply =='stop':\n",
    "        break \n",
    "    elif not reply.isdigit():\n",
    "        print ('Bad entry!'*8)\n",
    "    else:\n",
    "        print (int(reply)**2)\n",
    "print ('Bye!')```"
   ]
  },
  {
   "cell_type": "code",
   "execution_count": 2,
   "metadata": {},
   "outputs": [],
   "source": [
    "#Ask for input \n",
    "#if reply is 'stop' - break out of the loop\n",
    "#if the reply is not a digit - print Bad Entry * 8 times\n",
    "#if the reply is a digit - print the integer to 2nd power \n",
    "#print Bye"
   ]
  },
  {
   "cell_type": "code",
   "execution_count": 3,
   "metadata": {},
   "outputs": [
    {
     "name": "stdout",
     "output_type": "stream",
     "text": [
      "Enter text:hi\n",
      "Bad entry!Bad entry!Bad entry!Bad entry!Bad entry!Bad entry!Bad entry!Bad entry!\n",
      "Enter text:9\n",
      "81\n",
      "Enter text:stop\n",
      "Bye!\n"
     ]
    }
   ],
   "source": [
    "while True:\n",
    "    reply = input('Enter text:')\n",
    "    if reply =='stop':\n",
    "        break \n",
    "    elif not reply.isdigit():\n",
    "        print ('Bad entry!'*8)\n",
    "    else:\n",
    "        print (int(reply)**2)\n",
    "print ('Bye!')"
   ]
  },
  {
   "cell_type": "markdown",
   "metadata": {},
   "source": [
    "### Question 11: Explain the difference between code in Q10 and this question.\n",
    "Remember to indent any dependencies.\n",
    "```python\n",
    "while True:\n",
    "    reply = input('Enter text:')\n",
    "    if reply =='stop':\n",
    "        break # hits a break\n",
    "    try:\n",
    "        num = int(reply)\n",
    "    except:\n",
    "        print ('Bad!'*8)\n",
    "    else:\n",
    "        print (num**2)\n",
    "print ('Bye!')```"
   ]
  },
  {
   "cell_type": "code",
   "execution_count": 4,
   "metadata": {},
   "outputs": [],
   "source": [
    "#Ask for input \n",
    "#if reply is 'stop' - break out of the loop\n",
    "#if input is a number - convert the reply into an integer \n",
    "#if not a number - print Bad *8\n",
    "#if num print num ^2\n",
    "#print Bye"
   ]
  },
  {
   "cell_type": "code",
   "execution_count": 1,
   "metadata": {},
   "outputs": [
    {
     "name": "stdout",
     "output_type": "stream",
     "text": [
      "Enter text:hi\n",
      "Bad!Bad!Bad!Bad!Bad!Bad!Bad!Bad!\n",
      "Enter text:3\n",
      "9\n",
      "Enter text:stop\n",
      "Bye!\n"
     ]
    }
   ],
   "source": [
    "while True:\n",
    "    reply = input('Enter text:')\n",
    "    if reply =='stop':\n",
    "        break # hits a break\n",
    "    try:\n",
    "        num = int(reply)\n",
    "    except:\n",
    "        print ('Bad!'*8)\n",
    "    else:\n",
    "        print (num**2)\n",
    "print ('Bye!')"
   ]
  },
  {
   "cell_type": "markdown",
   "metadata": {},
   "source": [
    "### Question 12: For the given text below find: \n",
    "   use spyder or jupyter, write program statements to do:\n",
    "   (i) count the number of unique words in the file,\n",
    "   (ii) the number of occurrences of each unique word.\n",
    "\n",
    "Step 1: Count the number of unique words in the text\n",
    "\n",
    "Step 2: Find how many unique words there are.\n",
    "\n",
    "Step 3: Share how many times unique word occurs in the text, remember to sort!"
   ]
  },
  {
   "cell_type": "code",
   "execution_count": null,
   "metadata": {},
   "outputs": [],
   "source": [
    "content = '''Python For Beginners\\n\n",
    "\\tWelcome! Are you completely new to programming? If not then we presume you will be looking for information about why and how to get started with Python. Fortunately an experienced programmer in any programming language (whatever it may be) can pick up Python very quickly. It's also easy for beginners to use and learn, so jump in!\n",
    "\\tInstalling\\nInstalling Python is generally easy, and nowadays many Linux and UNIX distributions include a recent Python. Even some Windows computers (notably those from HP) now come with Python already installed. If you do need to install Python and aren't confident about the task you can find a few notes on the BeginnersGuide/Download wiki page, but installation is unremarkable on most platforms.\n",
    "'''\n",
    "\n",
    "\n",
    "''' to do \n",
    "\n",
    "\n",
    "\n",
    "\n",
    "'''\n",
    "\n",
    "print (\"Total Words: \", \": \",____ )\n",
    "print (\"Unique Words: \", \": \",______)\n",
    "print (\"Removed: \", _______ - ______, \"words\")"
   ]
  },
  {
   "cell_type": "code",
   "execution_count": 43,
   "metadata": {},
   "outputs": [],
   "source": [
    "sentence = \"Python for Beginners. Welcome! Are you completely new to programming? If not then we presume you will be looking for information about why and how to get started with Python. Fortunately an experienced programmer in any programming language (whatever it may be) can pick up Python very quickly. It's also easy for beginners to use and learn, so jump in! Installing\\nInstalling Python is generally easy, and nowadays many Linux and UNIX distributions include a recent Python. Even some Windows computers (notably those from HP) now come with Python already installed. If you do need to install Python and aren't confident about the task you can find a few notes on the BeginnersGuide/Download wiki page, but installation is unremarkable on most platforms.\"\n"
   ]
  },
  {
   "cell_type": "code",
   "execution_count": 44,
   "metadata": {},
   "outputs": [
    {
     "data": {
      "text/plain": [
       "96"
      ]
     },
     "execution_count": 44,
     "metadata": {},
     "output_type": "execute_result"
    }
   ],
   "source": [
    "x = (sentence.split())\n",
    "total = len(x)\n",
    "total\n",
    "\n",
    "y = set(sentence.split())\n",
    "unique_total = len(y)\n",
    "unique_total"
   ]
  },
  {
   "cell_type": "code",
   "execution_count": 45,
   "metadata": {},
   "outputs": [
    {
     "data": {
      "text/plain": [
       "{'Python': 5,\n",
       " 'for': 3,\n",
       " 'Beginners.': 1,\n",
       " 'Welcome!': 1,\n",
       " 'Are': 1,\n",
       " 'you': 4,\n",
       " 'completely': 1,\n",
       " 'new': 1,\n",
       " 'to': 4,\n",
       " 'programming?': 1,\n",
       " 'If': 2,\n",
       " 'not': 1,\n",
       " 'then': 1,\n",
       " 'we': 1,\n",
       " 'presume': 1,\n",
       " 'will': 1,\n",
       " 'be': 1,\n",
       " 'looking': 1,\n",
       " 'information': 1,\n",
       " 'about': 2,\n",
       " 'why': 1,\n",
       " 'and': 5,\n",
       " 'how': 1,\n",
       " 'get': 1,\n",
       " 'started': 1,\n",
       " 'with': 2,\n",
       " 'Python.': 2,\n",
       " 'Fortunately': 1,\n",
       " 'an': 1,\n",
       " 'experienced': 1,\n",
       " 'programmer': 1,\n",
       " 'in': 1,\n",
       " 'any': 1,\n",
       " 'programming': 1,\n",
       " 'language': 1,\n",
       " '(whatever': 1,\n",
       " 'it': 1,\n",
       " 'may': 1,\n",
       " 'be)': 1,\n",
       " 'can': 2,\n",
       " 'pick': 1,\n",
       " 'up': 1,\n",
       " 'very': 1,\n",
       " 'quickly.': 1,\n",
       " \"It's\": 1,\n",
       " 'also': 1,\n",
       " 'easy': 1,\n",
       " 'beginners': 1,\n",
       " 'use': 1,\n",
       " 'learn,': 1,\n",
       " 'so': 1,\n",
       " 'jump': 1,\n",
       " 'in!': 1,\n",
       " 'Installing': 2,\n",
       " 'is': 2,\n",
       " 'generally': 1,\n",
       " 'easy,': 1,\n",
       " 'nowadays': 1,\n",
       " 'many': 1,\n",
       " 'Linux': 1,\n",
       " 'UNIX': 1,\n",
       " 'distributions': 1,\n",
       " 'include': 1,\n",
       " 'a': 2,\n",
       " 'recent': 1,\n",
       " 'Even': 1,\n",
       " 'some': 1,\n",
       " 'Windows': 1,\n",
       " 'computers': 1,\n",
       " '(notably': 1,\n",
       " 'those': 1,\n",
       " 'from': 1,\n",
       " 'HP)': 1,\n",
       " 'now': 1,\n",
       " 'come': 1,\n",
       " 'already': 1,\n",
       " 'installed.': 1,\n",
       " 'do': 1,\n",
       " 'need': 1,\n",
       " 'install': 1,\n",
       " \"aren't\": 1,\n",
       " 'confident': 1,\n",
       " 'the': 2,\n",
       " 'task': 1,\n",
       " 'find': 1,\n",
       " 'few': 1,\n",
       " 'notes': 1,\n",
       " 'on': 2,\n",
       " 'BeginnersGuide/Download': 1,\n",
       " 'wiki': 1,\n",
       " 'page,': 1,\n",
       " 'but': 1,\n",
       " 'installation': 1,\n",
       " 'unremarkable': 1,\n",
       " 'most': 1,\n",
       " 'platforms.': 1}"
      ]
     },
     "execution_count": 45,
     "metadata": {},
     "output_type": "execute_result"
    }
   ],
   "source": [
    "unique = {}\n",
    "\n",
    "for word in sentence.split():\n",
    "    if word in unique:\n",
    "        unique[word] +=1\n",
    "    else:\n",
    "        unique[word] = 1\n",
    "unique"
   ]
  },
  {
   "cell_type": "code",
   "execution_count": 46,
   "metadata": {},
   "outputs": [
    {
     "data": {
      "text/plain": [
       "[('(notably', 1),\n",
       " ('(whatever', 1),\n",
       " ('Are', 1),\n",
       " ('Beginners.', 1),\n",
       " ('BeginnersGuide/Download', 1),\n",
       " ('Even', 1),\n",
       " ('Fortunately', 1),\n",
       " ('HP)', 1),\n",
       " ('If', 2),\n",
       " ('Installing', 2),\n",
       " (\"It's\", 1),\n",
       " ('Linux', 1),\n",
       " ('Python', 5),\n",
       " ('Python.', 2),\n",
       " ('UNIX', 1),\n",
       " ('Welcome!', 1),\n",
       " ('Windows', 1),\n",
       " ('a', 2),\n",
       " ('about', 2),\n",
       " ('already', 1),\n",
       " ('also', 1),\n",
       " ('an', 1),\n",
       " ('and', 5),\n",
       " ('any', 1),\n",
       " (\"aren't\", 1),\n",
       " ('be', 1),\n",
       " ('be)', 1),\n",
       " ('beginners', 1),\n",
       " ('but', 1),\n",
       " ('can', 2),\n",
       " ('come', 1),\n",
       " ('completely', 1),\n",
       " ('computers', 1),\n",
       " ('confident', 1),\n",
       " ('distributions', 1),\n",
       " ('do', 1),\n",
       " ('easy', 1),\n",
       " ('easy,', 1),\n",
       " ('experienced', 1),\n",
       " ('few', 1),\n",
       " ('find', 1),\n",
       " ('for', 3),\n",
       " ('from', 1),\n",
       " ('generally', 1),\n",
       " ('get', 1),\n",
       " ('how', 1),\n",
       " ('in', 1),\n",
       " ('in!', 1),\n",
       " ('include', 1),\n",
       " ('information', 1),\n",
       " ('install', 1),\n",
       " ('installation', 1),\n",
       " ('installed.', 1),\n",
       " ('is', 2),\n",
       " ('it', 1),\n",
       " ('jump', 1),\n",
       " ('language', 1),\n",
       " ('learn,', 1),\n",
       " ('looking', 1),\n",
       " ('many', 1),\n",
       " ('may', 1),\n",
       " ('most', 1),\n",
       " ('need', 1),\n",
       " ('new', 1),\n",
       " ('not', 1),\n",
       " ('notes', 1),\n",
       " ('now', 1),\n",
       " ('nowadays', 1),\n",
       " ('on', 2),\n",
       " ('page,', 1),\n",
       " ('pick', 1),\n",
       " ('platforms.', 1),\n",
       " ('presume', 1),\n",
       " ('programmer', 1),\n",
       " ('programming', 1),\n",
       " ('programming?', 1),\n",
       " ('quickly.', 1),\n",
       " ('recent', 1),\n",
       " ('so', 1),\n",
       " ('some', 1),\n",
       " ('started', 1),\n",
       " ('task', 1),\n",
       " ('the', 2),\n",
       " ('then', 1),\n",
       " ('those', 1),\n",
       " ('to', 4),\n",
       " ('unremarkable', 1),\n",
       " ('up', 1),\n",
       " ('use', 1),\n",
       " ('very', 1),\n",
       " ('we', 1),\n",
       " ('why', 1),\n",
       " ('wiki', 1),\n",
       " ('will', 1),\n",
       " ('with', 2),\n",
       " ('you', 4)]"
      ]
     },
     "execution_count": 46,
     "metadata": {},
     "output_type": "execute_result"
    }
   ],
   "source": [
    "order_unique = sorted(unique.items())\n",
    "order_unique"
   ]
  },
  {
   "cell_type": "code",
   "execution_count": 47,
   "metadata": {},
   "outputs": [
    {
     "name": "stdout",
     "output_type": "stream",
     "text": [
      "Total Words:  :  122\n",
      "Unique Words:  :  96\n",
      "Removed:  26 words\n"
     ]
    }
   ],
   "source": [
    "print (\"Total Words: \", \": \",total)\n",
    "print (\"Unique Words: \", \": \",len(unique))\n",
    "print (\"Removed: \", total - len(unique), \"words\")"
   ]
  },
  {
   "cell_type": "code",
   "execution_count": null,
   "metadata": {},
   "outputs": [],
   "source": []
  }
 ],
 "metadata": {
  "kernelspec": {
   "display_name": "Python 3",
   "language": "python",
   "name": "python3"
  },
  "language_info": {
   "codemirror_mode": {
    "name": "ipython",
    "version": 3
   },
   "file_extension": ".py",
   "mimetype": "text/x-python",
   "name": "python",
   "nbconvert_exporter": "python",
   "pygments_lexer": "ipython3",
   "version": "3.7.6"
  }
 },
 "nbformat": 4,
 "nbformat_minor": 2
}
